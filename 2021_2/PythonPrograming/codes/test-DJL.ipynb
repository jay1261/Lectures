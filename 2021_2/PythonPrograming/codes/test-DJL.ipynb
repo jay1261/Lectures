{
 "cells": [
  {
   "cell_type": "code",
   "execution_count": 6,
   "source": [
    "size = 10\n",
    "arr = [i*2 for i in range(size)]\n",
    "print(arr)\n",
    "arr2 = [i*i for i in arr]\n",
    "print(arr2)\n",
    "\n",
    "arr3 = [i for i in range(size) if i %2==0]\n",
    "print(arr3)"
   ],
   "outputs": [
    {
     "output_type": "stream",
     "name": "stdout",
     "text": [
      "[0, 2, 4, 6, 8, 10, 12, 14, 16, 18]\n",
      "[0, 4, 16, 36, 64, 100, 144, 196, 256, 324]\n",
      "[0, 2, 4, 6, 8]\n"
     ]
    }
   ],
   "metadata": {}
  },
  {
   "cell_type": "code",
   "execution_count": null,
   "source": [],
   "outputs": [],
   "metadata": {}
  }
 ],
 "metadata": {
  "kernelspec": {
   "name": "python3",
   "display_name": "Python 3.9.2 64-bit"
  },
  "language_info": {
   "codemirror_mode": {
    "name": "ipython",
    "version": 3
   },
   "file_extension": ".py",
   "mimetype": "text/x-python",
   "name": "python",
   "nbconvert_exporter": "python",
   "pygments_lexer": "ipython3",
   "version": "3.9.2"
  },
  "interpreter": {
   "hash": "aee8b7b246df8f9039afb4144a1f6fd8d2ca17a180786b69acc140d282b71a49"
  }
 },
 "nbformat": 4,
 "nbformat_minor": 4
}