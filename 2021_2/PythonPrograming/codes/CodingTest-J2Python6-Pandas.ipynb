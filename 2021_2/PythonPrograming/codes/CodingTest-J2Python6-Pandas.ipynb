{
 "cells": [
  {
   "cell_type": "markdown",
   "id": "fcfd86d2",
   "metadata": {},
   "source": [
    "# 1. 일반해밍수 (2점)\n",
    "\n",
    "5형 일반해밍(Hamming)수는 5보다 큰 소수 인수가 없는 자연수입니다.\n",
    "첫 몇 해밍 수는 1, 2, 3, 4, 5, 6, 8, 9, 10, 12, 15입니다.\n",
    "\n",
    "n보다 큰 소수 인수가 없는 자연수를 n형 일반 해밍 수라고 하면,\n",
    "앞서의 해밍 수는 5형 일반 해밍 수입니다.\n",
    "\n",
    "10,000 이하에서, 50형 일반해밍수 중에 두번째로 큰 수를 출력하시오. \n"
   ]
  },
  {
   "cell_type": "code",
   "execution_count": 50,
   "id": "9df82def",
   "metadata": {},
   "outputs": [
    {
     "name": "stdout",
     "output_type": "stream",
     "text": [
      "3716\n"
     ]
    }
   ],
   "source": [
    "limit = 10000\n",
    "n = 50\n",
    "def compute():\n",
    "\tLIMIT = 10000\n",
    "\tprimes = [2,3,5,7,11,13,17,19,23,29,31,37,41,43,47,53,59,61,67,71,73,79,83,89,97]\n",
    "\n",
    "\t\n",
    "\tdef count(primeindex, product):\n",
    "\t\tif primeindex == len(primes):\n",
    "\t\t\treturn 1 if product <= LIMIT else 0\n",
    "\t\telse:\n",
    "\t\t\tresult = 0\n",
    "\t\t\twhile product <= LIMIT:\n",
    "\t\t\t\tresult += count(primeindex + 1, product)\n",
    "\t\t\t\tproduct *= primes[primeindex]\n",
    "\t\t\treturn result\n",
    "\t\n",
    "\treturn str(count(0, 1))\n",
    "\n",
    "\n",
    "if __name__ == \"__main__\":\n",
    "\tprint(compute())"
   ]
  },
  {
   "cell_type": "markdown",
   "id": "9499a54a",
   "metadata": {},
   "source": [
    "# 2. 정규식 (2점)\n",
    "정규식을 이용하여  첨부의 input.txt 파일에서 찾아, \n",
    "다음 형식과 조건을 만족시키는 문자열을 찾아 출력하시오.\n",
    "\n",
    "o 형식: mm/dd/yyyy\n",
    "o 조건: 1900~2021년 사이의 날짜만 출력하도록 한다.\n",
    "o 단,월별 최종날짜는 28, 30, 31인지는 구분하지 않고, 31일 이하로 체크한다. \n",
    "o 예) \n",
    "  03/24/1995 : 출력\n",
    "  05/15/2021 : 출력\n",
    "  13/23/2011 : 미출력, 13월은 없음. \n",
    "  12/23/2022 : 미출력, 2022년"
   ]
  },
  {
   "cell_type": "code",
   "execution_count": 6,
   "id": "1e6c3b0c",
   "metadata": {},
   "outputs": [
    {
     "name": "stdout",
     "output_type": "stream",
     "text": [
      "[('11', '21', '2011'), ('12', '11', '1999')]\n"
     ]
    }
   ],
   "source": [
    "import re\n",
    "f = open('input-re.txt','r')\n",
    "data = f.read()\n",
    "p = re.compile('(0[1-9]|1[0-2])/([0-2]\\d|3[01])/(1[0-9][0-9][0-9]|20[0-2][0-1])',re.MULTILINE)\n",
    "a = p.findall(data)\n",
    "print(a)"
   ]
  },
  {
   "attachments": {
    "image-3.png": {
     "image/png": "[encoded data removed]"
    }
   },
   "cell_type": "markdown",
   "id": "0b9a088d",
   "metadata": {},
   "source": [
    "# 3. Numpy + gplotlib (3점)\n",
    "\n",
    "다음과 같이 한번에 [-2~+2] 사이의 정수만큼 한번에 계단을 랜덤확률로 오르내린다. \n",
    "계단높이 5에서 시작하여, 다음 조건과 같이 10회의 계단 오르내리기를 할 경우, \n",
    "다음 질문에 답하라. \n",
    "\n",
    "o 조건: \n",
    "\n",
    " - 두계단상승(+2), 한계단상승(+1), 제자리(0), 한계단하락(-1), 두계단하락(-2)\n",
    " \n",
    "o 채점의 편의를 위하여 np.random.seed(100) 을  수행하여, \n",
    "  np.random.randint 함수가 [-2,+2] 사이의 동일한 난수정수들을 \n",
    "  만들어 내도록 하고, 이를 누적하여 계단위치의 변화를 만들어, \n",
    "  이를 matplotlib를 활용하여 회차별 현재 계단위치를 꺽은선 그래프로 표시하라. \n",
    "\n",
    "예) 두개의 난수가 -1, 2 이 생성됬을 경우, 계단의 위치변화는 5, 4, 6 임\n",
    "\n",
    "o (주의) 첫 계단의 시작위치는 5에서 시작하여, \n",
    "  총 11번의 계단위치값을 y 값으로 표시하는 그래프를 표시한다. \n",
    "\n",
    "o (힌트) cumsum 함수를 이용하면 현재의 위치를 쉽게 구할 수 있다. \n",
    "\n",
    "o 해답 그래프 \n",
    "![image-3.png](attachment:image-3.png)"
   ]
  },
  {
   "cell_type": "code",
   "execution_count": 54,
   "id": "b50582ad",
   "metadata": {},
   "outputs": [
    {
     "name": "stdout",
     "output_type": "stream",
     "text": [
      "[5, array([3]), array([1]), array([2]), array([3]), array([4]), array([5]), array([3]), array([3]), array([3]), array([1])]\n"
     ]
    },
    {
     "name": "stderr",
     "output_type": "stream",
     "text": [
      "/Users/jay/opt/anaconda3/lib/python3.8/site-packages/numpy/core/_asarray.py:136: VisibleDeprecationWarning: Creating an ndarray from ragged nested sequences (which is a list-or-tuple of lists-or-tuples-or ndarrays with different lengths or shapes) is deprecated. If you meant to do this, you must specify 'dtype=object' when creating the ndarray\n",
      "  return array(a, dtype, copy=False, order=order, subok=True)\n"
     ]
    },
    {
     "data": {
      "text/plain": [
       "[<matplotlib.lines.Line2D at 0x7fcf7070d040>]"
      ]
     },
     "execution_count": 54,
     "metadata": {},
     "output_type": "execute_result"
    },
    {
     "data": {
      "image/png": "[encoded data removed]",
      "text/plain": [
       "<Figure size 432x288 with 1 Axes>"
      ]
     },
     "metadata": {
      "needs_background": "light"
     },
     "output_type": "display_data"
    }
   ],
   "source": [
    "# 답\n",
    "import numpy as np\n",
    "import matplotlib.pyplot as plt\n",
    "np.random.seed(100)\n",
    "nsteps = 10\n",
    "step = 5\n",
    "list1 =[5,]\n",
    "for i in range(nsteps):\n",
    "    step = step + np.random.randint(-2,2)\n",
    "    list1.append(np.cumsum(step))\n",
    "plt.plot(list1)"
   ]
  },
  {
   "cell_type": "markdown",
   "id": "352148f9",
   "metadata": {},
   "source": [
    "# 4. Pandas (2점)\n",
    "다음은 주별 음식재료 소비량을 나타내는 DataFrame이다. \n",
    "\n",
    "주별 음식재료 소비량의 합을 구하라. "
   ]
  },
  {
   "cell_type": "code",
   "execution_count": 3,
   "id": "cf526638",
   "metadata": {
    "scrolled": true
   },
   "outputs": [
    {
     "data": {
      "text/html": [
       "<div>\n",
       "<style scoped>\n",
       "    .dataframe tbody tr th:only-of-type {\n",
       "        vertical-align: middle;\n",
       "    }\n",
       "\n",
       "    .dataframe tbody tr th {\n",
       "        vertical-align: top;\n",
       "    }\n",
       "\n",
       "    .dataframe thead th {\n",
       "        text-align: right;\n",
       "    }\n",
       "</style>\n",
       "<table border=\"1\" class=\"dataframe\">\n",
       "  <thead>\n",
       "    <tr style=\"text-align: right;\">\n",
       "      <th></th>\n",
       "      <th>corn</th>\n",
       "      <th>rice</th>\n",
       "      <th>meat</th>\n",
       "    </tr>\n",
       "  </thead>\n",
       "  <tbody>\n",
       "    <tr>\n",
       "      <th>Utah</th>\n",
       "      <td>0.543405</td>\n",
       "      <td>0.278369</td>\n",
       "      <td>0.424518</td>\n",
       "    </tr>\n",
       "    <tr>\n",
       "      <th>Ohio</th>\n",
       "      <td>0.844776</td>\n",
       "      <td>0.004719</td>\n",
       "      <td>0.121569</td>\n",
       "    </tr>\n",
       "    <tr>\n",
       "      <th>Texas</th>\n",
       "      <td>0.670749</td>\n",
       "      <td>0.825853</td>\n",
       "      <td>0.136707</td>\n",
       "    </tr>\n",
       "    <tr>\n",
       "      <th>Oregon</th>\n",
       "      <td>0.575093</td>\n",
       "      <td>0.891322</td>\n",
       "      <td>0.209202</td>\n",
       "    </tr>\n",
       "  </tbody>\n",
       "</table>\n",
       "</div>"
      ],
      "text/plain": [
       "            corn      rice      meat\n",
       "Utah    0.543405  0.278369  0.424518\n",
       "Ohio    0.844776  0.004719  0.121569\n",
       "Texas   0.670749  0.825853  0.136707\n",
       "Oregon  0.575093  0.891322  0.209202"
      ]
     },
     "execution_count": 3,
     "metadata": {},
     "output_type": "execute_result"
    }
   ],
   "source": [
    "from pandas import DataFrame\n",
    "import numpy as np\n",
    "np.random.seed(100)\n",
    "df = DataFrame(np.random.rand(12).reshape((4,3)), columns=['corn', 'rice', 'meat'],\n",
    "                index=['Utah', 'Ohio', 'Texas', 'Oregon'])\n",
    "df"
   ]
  },
  {
   "cell_type": "code",
   "execution_count": 4,
   "id": "bad6e218",
   "metadata": {},
   "outputs": [
    {
     "data": {
      "text/plain": [
       "Utah      1.246292\n",
       "Ohio      0.971064\n",
       "Texas     1.633308\n",
       "Oregon    1.675617\n",
       "dtype: float64"
      ]
     },
     "execution_count": 4,
     "metadata": {},
     "output_type": "execute_result"
    }
   ],
   "source": [
    "#답\n",
    "df1 = df.sum(axis=1)\n",
    "df1"
   ]
  },
  {
   "cell_type": "code",
   "execution_count": null,
   "id": "f862e9f1",
   "metadata": {},
   "outputs": [],
   "source": []
  }
 ],
 "metadata": {
  "kernelspec": {
   "display_name": "Python 3",
   "language": "python",
   "name": "python3"
  },
  "language_info": {
   "codemirror_mode": {
    "name": "ipython",
    "version": 3
   },
   "file_extension": ".py",
   "mimetype": "text/x-python",
   "name": "python",
   "nbconvert_exporter": "python",
   "pygments_lexer": "ipython3",
   "version": "3.8.5"
  }
 },
 "nbformat": 4,
 "nbformat_minor": 5
}
