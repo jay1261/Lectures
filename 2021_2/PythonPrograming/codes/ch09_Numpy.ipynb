{
 "cells": [
  {
   "cell_type": "code",
   "execution_count": 2,
   "metadata": {},
   "outputs": [
    {
     "name": "stdout",
     "output_type": "stream",
     "text": [
      "[[[0. 0. 0. 0. 0.]\n",
      "  [0. 0. 0. 0. 0.]\n",
      "  [0. 0. 0. 0. 0.]\n",
      "  [0. 0. 0. 0. 0.]\n",
      "  [0. 0. 0. 0. 0.]]\n",
      "\n",
      " [[0. 0. 0. 0. 0.]\n",
      "  [0. 0. 0. 0. 0.]\n",
      "  [0. 0. 0. 0. 0.]\n",
      "  [0. 0. 0. 0. 0.]\n",
      "  [0. 0. 0. 0. 0.]]]\n"
     ]
    },
    {
     "data": {
      "text/plain": [
       "array([[[0., 0., 5., 0., 0.],\n",
       "        [0., 0., 0., 0., 0.],\n",
       "        [0., 0., 0., 0., 0.],\n",
       "        [0., 0., 0., 0., 0.],\n",
       "        [0., 0., 0., 0., 0.]],\n",
       "\n",
       "       [[0., 0., 0., 0., 0.],\n",
       "        [0., 0., 0., 0., 0.],\n",
       "        [0., 0., 0., 0., 0.],\n",
       "        [0., 0., 0., 0., 0.],\n",
       "        [0., 0., 0., 0., 0.]]])"
      ]
     },
     "execution_count": 2,
     "metadata": {},
     "output_type": "execute_result"
    }
   ],
   "source": [
    "import numpy as np\n",
    "t = (2,3) #튜플로 주면 다차원 배열로 준다\n",
    "x = np.zeros((2,5,5))\n",
    "print(x)\n",
    "x[0][0][2] = 5  # c 스타일\n",
    "x[0,0,2] = 5    # 이렇게 하는 방법도 된다\n",
    "x"
   ]
  },
  {
   "cell_type": "code",
   "execution_count": 8,
   "metadata": {},
   "outputs": [
    {
     "data": {
      "text/plain": [
       "array([[0., 0., 5., 0., 0., 0., 0., 0., 0., 0., 0., 0., 0., 0., 0., 0.,\n",
       "        0., 0., 0., 0., 0., 0., 0., 0., 0., 0., 0., 0., 0., 0., 0., 0.,\n",
       "        0., 0., 0., 0., 0., 0., 0., 0., 0., 0., 0., 0., 0., 0., 0., 0.,\n",
       "        0., 0.]])"
      ]
     },
     "execution_count": 8,
     "metadata": {},
     "output_type": "execute_result"
    }
   ],
   "source": [
    "x.reshape(1,50) #1차원으로 변경"
   ]
  },
  {
   "cell_type": "code",
   "execution_count": 11,
   "metadata": {},
   "outputs": [
    {
     "data": {
      "text/plain": [
       "array([[ 1,  4,  7, 10, 13, 16, 19, 22, 25, 28, 31],\n",
       "       [34, 37, 40, 43, 46, 49, 52, 55, 58, 61, 64],\n",
       "       [67, 70, 73, 76, 79, 82, 85, 88, 91, 94, 97]])"
      ]
     },
     "execution_count": 11,
     "metadata": {},
     "output_type": "execute_result"
    }
   ],
   "source": [
    "import numpy as np\n",
    "np.array([i for i in range(0,100) if i%3==1]).reshape(3,11)"
   ]
  },
  {
   "cell_type": "code",
   "execution_count": 22,
   "metadata": {},
   "outputs": [
    {
     "name": "stdout",
     "output_type": "stream",
     "text": [
      "[[ 0  1  2  3  4]\n",
      " [ 5  6  7  8  9]\n",
      " [10 11 12 13 14]\n",
      " [15 16 17 18 19]]\n"
     ]
    },
    {
     "data": {
      "text/plain": [
       "array([[ 7,  8],\n",
       "       [12, 13]])"
      ]
     },
     "execution_count": 22,
     "metadata": {},
     "output_type": "execute_result"
    }
   ],
   "source": [
    "lol = np.array([i for i in range(0,20)]).reshape(4,5)\n",
    "print(lol)\n",
    "lol[1:3,2:4]"
   ]
  },
  {
   "cell_type": "code",
   "execution_count": 25,
   "metadata": {},
   "outputs": [
    {
     "data": {
      "text/plain": [
       "1.4142135623730951"
      ]
     },
     "execution_count": 25,
     "metadata": {},
     "output_type": "execute_result"
    }
   ],
   "source": [
    "import math\n",
    "math.sqrt(4)\n",
    "np.sqrt(2)  # math로 안하고 np로 해도 된다"
   ]
  },
  {
   "cell_type": "code",
   "execution_count": 28,
   "metadata": {},
   "outputs": [
    {
     "name": "stdout",
     "output_type": "stream",
     "text": [
      "[[[1 2]\n",
      "  [3 4]]\n",
      "\n",
      " [[5 6]\n",
      "  [7 8]]]\n"
     ]
    },
    {
     "data": {
      "text/plain": [
       "array([[[1, 3],\n",
       "        [5, 7]],\n",
       "\n",
       "       [[2, 4],\n",
       "        [6, 8]]])"
      ]
     },
     "execution_count": 28,
     "metadata": {},
     "output_type": "execute_result"
    }
   ],
   "source": [
    "a3 = np.array([1,2,3,4,5,6,7,8]).reshape(2,2,2,)\n",
    "print(a3)\n",
    "np.transpose(a3,(2,0,1)) "
   ]
  },
  {
   "cell_type": "code",
   "execution_count": 9,
   "metadata": {},
   "outputs": [
    {
     "data": {
      "text/plain": [
       "array([60, 70])"
      ]
     },
     "execution_count": 9,
     "metadata": {},
     "output_type": "execute_result"
    }
   ],
   "source": [
    "#\n",
    "import numpy as np\n",
    "a = np.array([10,20,30,40,50,60,70])\n",
    "b = a > 50\n",
    "b\n",
    "a[a > 50]\n"
   ]
  },
  {
   "cell_type": "code",
   "execution_count": 165,
   "metadata": {},
   "outputs": [
    {
     "name": "stdout",
     "output_type": "stream",
     "text": [
      "[123 174 150 141 121 183 180 107 122 186]\n",
      "[123 200 200 141 121 200 200 107 122 200]\n"
     ]
    }
   ],
   "source": [
    "a = np.random.randint(100,201,size=10)\n",
    "print(a)\n",
    "a[a >= 150] = 200\n",
    "print(a)"
   ]
  },
  {
   "cell_type": "code",
   "execution_count": 208,
   "metadata": {},
   "outputs": [
    {
     "name": "stdout",
     "output_type": "stream",
     "text": [
      "[35  6 24 27 25 53 44]\n",
      "[14  4 45 42 12 36 53]\n"
     ]
    }
   ],
   "source": [
    "#카드게임? -> 총 54장(13*4 +2)\n",
    "import numpy as np\n",
    "import time\n",
    "#1.\n",
    "cardlist = np.array([i for i in range(1,55)])\n",
    "np.random.shuffle(cardlist)\n",
    "print(cardlist[:7])\n",
    "\n",
    "#2. seed추가\n",
    "np.random.seed(int(time.time()))\n",
    "np.random.shuffle(cardlist)\n",
    "print(cardlist[:7])\n"
   ]
  },
  {
   "cell_type": "code",
   "execution_count": 226,
   "metadata": {},
   "outputs": [
    {
     "name": "stdout",
     "output_type": "stream",
     "text": [
      "[[ 7  5 11  9]\n",
      " [13 11 14 15]\n",
      " [ 2  3 13 14]\n",
      " [16 10  6  9]]\n",
      "(array([16, 10,  6,  9]), array([16, 10,  6,  9]))\n"
     ]
    }
   ],
   "source": [
    "# 무슨 사이트에서 문제 50~59번 문제의 답을 문제번호와 함께 4개이상 답을 분리하여 \n",
    "#50번 Write a NumPy program to create a 4x4 array with random values, now create a new array from the said array swapping first and last rows\n",
    "import numpy as np\n",
    "a = np.array(np.random.randint(1,17,size=16)).reshape(4,4)\n",
    "print(a)\n",
    "b = a[0], a[-1] = a[-1], a[0]\n",
    "print(b)"
   ]
  },
  {
   "cell_type": "code",
   "execution_count": 216,
   "metadata": {},
   "outputs": [
    {
     "data": {
      "text/plain": [
       "array([[0, 0, 0, 0, 0, 0],\n",
       "       [0, 0, 0, 0, 0, 0],\n",
       "       [0, 0, 0, 0, 0, 0],\n",
       "       [0, 0, 0, 0, 0, 0],\n",
       "       [0, 0, 0, 0, 0, 0]])"
      ]
     },
     "execution_count": 216,
     "metadata": {},
     "output_type": "execute_result"
    }
   ],
   "source": [
    "#51. Write a NumPy program to create a new array of given shape (5,6) and type, filled with zeros.\n",
    "import numpy as np\n",
    "np.zeros(shape=(5,6), dtype=int)"
   ]
  },
  {
   "cell_type": "code",
   "execution_count": 223,
   "metadata": {},
   "outputs": [
    {
     "name": "stdout",
     "output_type": "stream",
     "text": [
      "[[ 2  7 13 13]\n",
      " [ 5 10 13 13]\n",
      " [ 7 12 14 15]\n",
      " [ 2 11 12 15]]\n",
      "[[ 2  7 13 13]\n",
      " [ 5 10 13 13]\n",
      " [ 7 12 14 15]\n",
      " [ 2 11 12 15]]\n"
     ]
    }
   ],
   "source": [
    "#52. Write a NumPy program to sort a given array by row and column in ascending order.\n",
    "import numpy as np\n",
    "a = np.array(np.random.randint(1,17,size=16)).reshape(4,4)\n",
    "print(np.sort(a))\n",
    "print(np.sort(a,axis=1))"
   ]
  },
  {
   "cell_type": "code",
   "execution_count": 230,
   "metadata": {},
   "outputs": [
    {
     "name": "stdout",
     "output_type": "stream",
     "text": [
      "[1 4 9]\n"
     ]
    }
   ],
   "source": [
    "#59 \n",
    "a = np.array([1,2,3])\n",
    "b = np.array([1,2,3])\n",
    "print(a*b)\n",
    "\n"
   ]
  }
 ],
 "metadata": {
  "interpreter": {
   "hash": "22060db212986357581e62361c3eebebeb6449cac1057860b607030f5c42b833"
  },
  "kernelspec": {
   "display_name": "Python 3.8.5 64-bit ('base': conda)",
   "name": "python3"
  },
  "language_info": {
   "codemirror_mode": {
    "name": "ipython",
    "version": 3
   },
   "file_extension": ".py",
   "mimetype": "text/x-python",
   "name": "python",
   "nbconvert_exporter": "python",
   "pygments_lexer": "ipython3",
   "version": "3.8.5"
  },
  "orig_nbformat": 4
 },
 "nbformat": 4,
 "nbformat_minor": 2
}
