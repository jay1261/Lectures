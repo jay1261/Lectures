{
 "cells": [
  {
   "cell_type": "code",
   "execution_count": 15,
   "metadata": {},
   "outputs": [
    {
     "name": "stdout",
     "output_type": "stream",
     "text": [
      "Index(['서울', '대구', '부산', '광주'], dtype='object')\n",
      "[7 3 5 8]\n"
     ]
    },
    {
     "data": {
      "text/plain": [
       "['광주', '대구', '부산', '서울']"
      ]
     },
     "execution_count": 15,
     "metadata": {},
     "output_type": "execute_result"
    }
   ],
   "source": [
    "import pandas as pd\n",
    "x = pd.Series([7,3,5,8], index=[\"서울\",'대구','부산','광주'])\n",
    "print(x.index)\n",
    "print(x.values)\n",
    "sorted(x.index)"
   ]
  },
  {
   "cell_type": "code",
   "execution_count": 17,
   "metadata": {},
   "outputs": [
    {
     "name": "stdout",
     "output_type": "stream",
     "text": [
      "서울    7\n",
      "대구    3\n",
      "부산    5\n",
      "광주    8\n",
      "dtype: int64\n"
     ]
    },
    {
     "data": {
      "text/plain": [
       "광주    8\n",
       "대구    3\n",
       "부산    5\n",
       "서울    7\n",
       "dtype: int64"
      ]
     },
     "execution_count": 17,
     "metadata": {},
     "output_type": "execute_result"
    }
   ],
   "source": [
    "print(x)\n",
    "x.reindex(sorted(x.index))  #인덱스로 reindex"
   ]
  },
  {
   "cell_type": "code",
   "execution_count": 29,
   "metadata": {},
   "outputs": [
    {
     "name": "stdout",
     "output_type": "stream",
     "text": [
      "서울    10\n",
      "대구    11\n",
      "부산    12\n",
      "광주    13\n",
      "dtype: int64\n",
      "광주     NaN\n",
      "대구    14.0\n",
      "부산    17.0\n",
      "서울    17.0\n",
      "인천     NaN\n",
      "dtype: float64\n"
     ]
    }
   ],
   "source": [
    "y = pd.Series([i for i in range(10,14)], index = x.index)\n",
    "\n",
    "print(y)\n",
    "y2 = y.reindex(index=(\"서울\",'대구','부산','인천'))\n",
    "print(x+y2)"
   ]
  },
  {
   "cell_type": "code",
   "execution_count": 87,
   "metadata": {},
   "outputs": [
    {
     "name": "stdout",
     "output_type": "stream",
     "text": [
      "   name  age  height\n",
      "0   lee   10     120\n",
      "1   kim   20     130\n",
      "2  park   30     150\n"
     ]
    },
    {
     "data": {
      "text/plain": [
       "name      lee\n",
       "age        10\n",
       "height    120\n",
       "Name: 0, dtype: object"
      ]
     },
     "execution_count": 87,
     "metadata": {},
     "output_type": "execute_result"
    }
   ],
   "source": [
    "#dataframe\n",
    "dict1 = {'name':['lee','kim','park'], 'age':[10,20,30], 'height':[120,130,150]}\n",
    "df1 = pd.DataFrame(dict1,columns=['name','age','height'])\n",
    "print(df1)\n",
    "df1.iloc[0,:]"
   ]
  },
  {
   "cell_type": "code",
   "execution_count": 73,
   "metadata": {},
   "outputs": [
    {
     "name": "stdout",
     "output_type": "stream",
     "text": [
      "   age  name  height  wow\n",
      "1   20   kim     130  NaN\n",
      "2   30  park     150  NaN\n",
      "age        20.000000\n",
      "height    133.333333\n",
      "wow              NaN\n",
      "dtype: float64\n",
      "0    65.0\n",
      "1    75.0\n",
      "2    90.0\n",
      "dtype: float64\n"
     ]
    }
   ],
   "source": [
    "print(df1[df1.age>10])\n",
    "print(df1.mean(axis=0))\n",
    "print(df1.mean(axis=1))"
   ]
  },
  {
   "cell_type": "code",
   "execution_count": null,
   "metadata": {},
   "outputs": [],
   "source": [
    "df1.index = df1.name\n",
    "print(df1)"
   ]
  },
  {
   "cell_type": "code",
   "execution_count": 51,
   "metadata": {},
   "outputs": [
    {
     "name": "stdout",
     "output_type": "stream",
     "text": [
      "     시도  시군구  발생건수  사망자수  부상자수  중상  경상  부상신고\n",
      "0    서울  성북구     1     0     1   0   0     1\n",
      "1    서울  강서구     1     0     2   1   1     0\n",
      "2    서울  강남구     1     0     1   1   0     0\n",
      "3    서울  강동구    37     1    85  10  60    15\n",
      "4    서울  송파구    24     1    49   5  38     6\n",
      "..   ..  ...   ...   ...   ...  ..  ..   ...\n",
      "153  대전   서구     5     1    14   3  11     0\n",
      "154  대전  유성구    26     2    52  20  32     0\n",
      "155  대전  대덕구    21     2    34   9  24     1\n",
      "156  울산  울주군    47     5    79  18  57     4\n",
      "157  세종   세종     4     0     9   1   8     0\n",
      "\n",
      "[158 rows x 8 columns]\n"
     ]
    },
    {
     "data": {
      "text/plain": [
       "발생건수    4079\n",
       "사망자수     252\n",
       "부상자수    8913\n",
       "중상      1949\n",
       "경상      6135\n",
       "부상신고     829\n",
       "dtype: int64"
      ]
     },
     "execution_count": 51,
     "metadata": {},
     "output_type": "execute_result"
    }
   ],
   "source": [
    "import pandas as pd\n",
    "import numpy as np\n",
    "a = pd.Series(['php', 'python', 'java', 'c#'])\n",
    "f = lambda x : x.upper()\n",
    "a = a.apply(f)\n",
    "\n",
    "a2 = pd.Series(['_high', '_mid', '_low', '- mid'])\n",
    "a + a2\n",
    "\n",
    "df1 = pd.read_csv(\"도로교통공단_부문별_고속도로_교통사고_20181231.csv\",encoding='CP949')\n",
    "print(df1)\n",
    "df1[['발생건수', '사망자수', '부상자수', '중상', '경상', '부상신고']].sum()\n",
    "\n",
    "df2 = df1.sum().reindex(['발생건수', '사망자수', '부상자수', '중상', '경상', '부상신고'])\n",
    "df2\n",
    "df3 = pd.DataFrame(df1,columns=['발생건수', '사망자수', '부상자수', '중상', '경상', '부상신고'])\n",
    "df3.sum()\n"
   ]
  },
  {
   "cell_type": "code",
   "execution_count": null,
   "metadata": {},
   "outputs": [],
   "source": []
  }
 ],
 "metadata": {
  "interpreter": {
   "hash": "22060db212986357581e62361c3eebebeb6449cac1057860b607030f5c42b833"
  },
  "kernelspec": {
   "display_name": "Python 3.8.5 64-bit ('base': conda)",
   "language": "python",
   "name": "python3"
  },
  "language_info": {
   "codemirror_mode": {
    "name": "ipython",
    "version": 3
   },
   "file_extension": ".py",
   "mimetype": "text/x-python",
   "name": "python",
   "nbconvert_exporter": "python",
   "pygments_lexer": "ipython3",
   "version": "3.8.5"
  },
  "orig_nbformat": 4
 },
 "nbformat": 4,
 "nbformat_minor": 2
}
