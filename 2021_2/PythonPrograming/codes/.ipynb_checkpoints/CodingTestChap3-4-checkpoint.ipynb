{
 "cells": [
  {
   "cell_type": "markdown",
   "metadata": {},
   "source": [
    "### Jump2Python Chap 3-4 Coding Test "
   ]
  },
  {
   "cell_type": "markdown",
   "metadata": {},
   "source": [
    "#### (주의) 모든 문제에서는 import 문을 사용하지 말고 구현하시오. \n",
    "\n",
    "### 3장. 프로그램 구조"
   ]
  },
  {
   "cell_type": "markdown",
   "metadata": {},
   "source": [
    "#### 1. 10,000 이하의 정수 중에서 다음 조건을 만족하는 가장 큰 수를 구하시오. (3점)\n",
    "o 솟수(Prime Numer)이다. \n",
    "\n",
    "o 피보나치 넘버이다."
   ]
  },
  {
   "cell_type": "code",
   "execution_count": 22,
   "metadata": {},
   "outputs": [
    {
     "name": "stdout",
     "output_type": "stream",
     "text": [
      "1597\n"
     ]
    }
   ],
   "source": [
    "list1 = [1, 1]\n",
    "while list1[-1] < 10000:\n",
    "    list1.append(list1[-2] + list1[-1])\n",
    "    \n",
    "def f1(a : int):\n",
    "    b = 0\n",
    "    for i in range(2, a):\n",
    "        if a%i == 0:\n",
    "            b = 1\n",
    "    if b == 0:\n",
    "        return a\n",
    "    else:\n",
    "        return 0\n",
    "\n",
    "for i in range(len(list1)):\n",
    "    result = f1(list1[-1-i])\n",
    "    if(result != 0):\n",
    "        print(result)\n",
    "        break"
   ]
  },
  {
   "cell_type": "markdown",
   "metadata": {},
   "source": [
    "#### 2. 주어진 영문 문자열을 이용하여 약자를 만드는 프로그램을 작성하시오. (2점)\n",
    "o 입력: input()함수를 이용하여, 사용자의 영문 문자열을 입력을 받는다.  \n",
    "o 약자만들기 조건\n",
    " - 약자를 추출대상 단어는 길이가 큰 우선으로 최대 4개 추출(동일길이 경우 앞단어 선택)\n",
    " - 각단어의 첫 글자를 대문자로 변환하여 구성한다.  \n",
    "o 기타 다른 조건은 위 조건을 위반하지 않는 범위에서 가정를 함께 코멘트로 작성하고 답안을 작성할 수 있음.\n",
    "\n",
    "예1) >> Enter FullName: korea polytechnic university \n",
    "  \n",
    "  출력결과:  KPU\n",
    "  \n",
    "예2) >> Enter FullName: as soon as possible \n",
    "  \n",
    "  출력결과:  ASAP\n",
    "  \n",
    "예4) >> Enter FullName: as far as i know\n",
    "\n",
    "  출력결과: AFAK  \n",
    "  \n",
    "예5) >> Enter FullName: How dare you do that?\n",
    "\n",
    "  출력결과: HDYT"
   ]
  },
  {
   "cell_type": "code",
   "execution_count": 46,
   "metadata": {},
   "outputs": [
    {
     "name": "stdout",
     "output_type": "stream",
     "text": [
      "Enter FullName :  as far as i know\n",
      "['as', 'far', 'as', 'i', 'know']\n",
      "AFAK"
     ]
    }
   ],
   "source": [
    "fullname = input(\"Enter FullName : \")\n",
    "FN_list = fullname.split()\n",
    "print(FN_list)\n",
    "initials = []\n",
    "\n",
    "list1 = [len(data) for data in FN_list]\n",
    "list1 = sorted(list1)\n",
    "temp = 0\n",
    "if len(FN_list) > 4:\n",
    "    temp = list1[-4]\n",
    "\n",
    "for data in FN_list:\n",
    "    if(len(data)>=temp):\n",
    "        print(data[0].upper(),end=\"\")\n",
    "        \n",
    "# for i in range(len(FN_list)):\n",
    "#     initials.append(FN_list[i][0])\n",
    "# print(\"\".join(initials).upper())\n",
    "#동일길이는 구현 못했습니다.\n"
   ]
  },
  {
   "cell_type": "markdown",
   "metadata": {},
   "source": [
    "### 4장. 프로그램 입출력\n",
    "#### 3. 첨부된 input.txt파일을 읽어 다음을 수행하시오. (2점)\n",
    "- 문장 끝을 나타내는 구두점(. ? !)을 이용하여 문장의 수를 파일(output.txt) 출력하시오.\n",
    "- !type output.txt 명령을 실행하여 그 결과를 출력하시오 \n",
    "\n",
    "(출력예)\n",
    "number of statements = 숫자\n"
   ]
  },
  {
   "cell_type": "code",
   "execution_count": 2,
   "metadata": {
    "scrolled": true
   },
   "outputs": [],
   "source": [
    "# Enter your code heare\n",
    "file = open('input.txt', 'r')\n",
    "data = file.read()\n",
    "file.close()\n",
    "#print(data)\n",
    "\n",
    "data.split()\n",
    "list1 = data.replace('?', '.').replace('!', '.').split('.')\n",
    "#print(len(list1))\n",
    "\n",
    "file2 = open('output.txt', 'w')\n",
    "file2.write(\"number of statements = \" + str(len(list1)))\n",
    "file2.close()\n"
   ]
  },
  {
   "cell_type": "code",
   "execution_count": 40,
   "metadata": {},
   "outputs": [
    {
     "name": "stdout",
     "output_type": "stream",
     "text": [
      "output.txt not found\r\n"
     ]
    }
   ],
   "source": [
    "# display output file \n",
    "!type output.txt"
   ]
  },
  {
   "cell_type": "markdown",
   "metadata": {},
   "source": [
    "#### 4. 회문을 찾는 함수를 만들고, 이를 이용하여 input.txt 파일에서 회문을 찾아 출력하는 프로그램을 작성하시오. (단, 대소문자는 구분하지 않는다) (3점)\n",
    "\n",
    "(참고) 회문이란, 역순으로 해도 동일한 결과를 만들어 내는 단어 \n",
    "\n",
    "    - 예) Mom Madam a2332a Dad 123421      "
   ]
  },
  {
   "cell_type": "code",
   "execution_count": 3,
   "metadata": {},
   "outputs": [
    {
     "name": "stdout",
     "output_type": "stream",
     "text": [
      "radar\n"
     ]
    }
   ],
   "source": [
    "list2 = data.replace('?', ' ').replace('!', ' ').split(' ')\n",
    "def palindrome(t : list):\n",
    "    for data1 in t:\n",
    "        #print(data1)\n",
    "        ispass = True\n",
    "        for i in range(int(len(data1)/2)):\n",
    "            if(data1[i] != data1[-i-1]):\n",
    "                ispass = False\n",
    "            #print(data1[i], data1[-i-1], ispass)\n",
    "        \n",
    "        if(ispass and len(data1) > 3):\n",
    "            print(data1)\n",
    "    \n",
    "palindrome(list2)"
   ]
  },
  {
   "cell_type": "code",
   "execution_count": null,
   "metadata": {},
   "outputs": [],
   "source": []
  }
 ],
 "metadata": {
  "kernelspec": {
   "display_name": "Python 3",
   "language": "python",
   "name": "python3"
  },
  "language_info": {
   "codemirror_mode": {
    "name": "ipython",
    "version": 3
   },
   "file_extension": ".py",
   "mimetype": "text/x-python",
   "name": "python",
   "nbconvert_exporter": "python",
   "pygments_lexer": "ipython3",
   "version": "3.8.5"
  }
 },
 "nbformat": 4,
 "nbformat_minor": 5
}
