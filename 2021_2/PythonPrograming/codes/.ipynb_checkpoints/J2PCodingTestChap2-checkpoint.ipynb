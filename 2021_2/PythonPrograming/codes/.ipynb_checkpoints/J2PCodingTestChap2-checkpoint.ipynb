{
 "cells": [
  {
   "cell_type": "markdown",
   "metadata": {},
   "source": [
    "# Jump2Python Chap2 Coding Test (6점 만점)"
   ]
  },
  {
   "cell_type": "markdown",
   "metadata": {},
   "source": [
    "### 1. str,  list,  built-in functions \n",
    "아래 주어진 알파벳 text1를 이용하여  대하여 코딩하시오 "
   ]
  },
  {
   "cell_type": "code",
   "execution_count": 46,
   "metadata": {
    "scrolled": true
   },
   "outputs": [],
   "source": [
    "text1 = \"\"\"Python For Beginners\n",
    "Welcome! Are you completely new to programming? If not then we presume you will be looking for information about why and how to get started with Python. Fortunately an experienced programmer in any programming language (whatever it may be) can pick up Python very quickly. It's also easy for beginners to use and learn, so jump in!\n",
    "\n",
    "Installing\n",
    "Installing Python is generally easy, and nowadays many Linux and UNIX distributions include a recent Python. Even some Windows computers (notably those from HP) now come with Python already installed. If you do need to install Python and aren't confident about the task you can find a few notes on the BeginnersGuide/Download wiki page, but installation is unremarkable on most platforms.\n",
    "\n",
    "Learning\n",
    "Before getting started, you may want to find out which IDEs and text editors are tailored to make Python editing easy, browse the list of introductory books, or look at code samples that you might find helpful.\n",
    "\n",
    "There is a list of tutorials suitable for experienced programmers on the BeginnersGuide/Tutorials page. There is also a list of resources in other languages which might be useful if English is not your first language.\n",
    "\n",
    "The online documentation is your first port of call for definitive information. There is a fairly brief tutorial that gives you basic information about the language and gets you started. You can follow this by looking at the library reference for a full description of Python's many libraries and the language reference for a complete (though somewhat dry) explanation of Python's syntax. If you are looking for common Python recipes and patterns, you can browse the ActiveState Python Cookbook\n",
    "\n",
    "Looking for Something Specific?\n",
    "If you want to know whether a particular application, or a library with particular functionality, is available in Python there are a number of possible sources of information. The Python web site provides a Python Package Index (also known as the Cheese Shop, a reference to the Monty Python script of that name). There is also a search page for a number of sources of Python-related information. Failing that, just Google for a phrase including the word ''python'' and you may well get the result you need. If all else fails, ask on the python newsgroup and there's a good chance someone will put you on the right track.\n",
    "\n",
    "Frequently Asked Questions\n",
    "If you have a question, it's a good idea to try the FAQ, which answers the most commonly asked questions about Python.\n",
    "\n",
    "Looking to Help?\n",
    "If you want to help to develop Python, take a look at the developer area for further information. Please note that you don't have to be an expert programmer to help. The documentation is just as important as the compiler, and still needs plenty of work!\n",
    "\"\"\""
   ]
  },
  {
   "cell_type": "markdown",
   "metadata": {},
   "source": [
    "#### 1.1. text1에서 'o', 'a' 모두 보다 출현회수가 많은 (알파벳과 출현횟수)를 출력하시오. (1.5점) "
   ]
  },
  {
   "cell_type": "code",
   "execution_count": 56,
   "metadata": {},
   "outputs": [
    {
     "name": "stdout",
     "output_type": "stream",
     "text": [
      "e 231\n"
     ]
    }
   ],
   "source": [
    "#text1 = text1.lower()\n",
    "for i in range(97,123):\n",
    "    temp = text1.count(chr(i))\n",
    "    if(temp > text1.count(\"o\") and text1.count(\"a\")):\n",
    "        print(chr(i), end = ' ')\n",
    "        print(text1.count(chr(i)))"
   ]
  },
  {
   "cell_type": "markdown",
   "metadata": {},
   "source": [
    "text1을 white space (스페이스, 탭, 뉴라인)로 분리하여 생성한 각 단어에서\n",
    "글자수가 5 이상인 단어로 구성된 리스트(wordslist) 를 이용하여 코딩하시오\n",
    "\n",
    "#### 1.2 wordslist에서 15번째 단어를 출력하시오. (1.5점)\n"
   ]
  },
  {
   "cell_type": "code",
   "execution_count": 58,
   "metadata": {},
   "outputs": [
    {
     "name": "stdout",
     "output_type": "stream",
     "text": [
      "programming\n"
     ]
    }
   ],
   "source": [
    "list1 = text1.replace('\\n', ' ').replace('\\t', ' ').split()\n",
    "new_list = []\n",
    "for i in range(len(list1)):\n",
    "    if len(list1[i]) >= 5:\n",
    "        new_list.append(list1[i])\n",
    "print(new_list[14])"
   ]
  },
  {
   "cell_type": "markdown",
   "metadata": {},
   "source": [
    "### 2. str, dictionary, etc \n",
    "1번문제 text1 문자열를 모두 소문자로 변환후, white space로 단어로 분리하고, \n",
    "딕셔너리를 이용하여 문제를 푸시오. \n",
    "\n",
    "예) 단어의 첫글자를 key, 그 키로 시작하는 단어들의 리스트를 value 로 하는 딕셔너리 \n",
    "\n",
    "\n",
    "#### 2.1.  첫글자로 출현하지 않은 알파벳을 모두 알파벳 순서대로 출력하시오. (예: z) (1.5점)\n"
   ]
  },
  {
   "cell_type": "code",
   "execution_count": 60,
   "metadata": {},
   "outputs": [
    {
     "name": "stdout",
     "output_type": "stream",
     "text": [
      "x\n",
      "z\n"
     ]
    }
   ],
   "source": [
    "text1 = text1.lower()\n",
    "dic = {}\n",
    "Alpha = \"abcdefghijklmnopqrstuvwxyz\"\n",
    "#wd = {c:[] for c in \"abcdefghijklmnopqrstuvwxyz\"}\n",
    "for data in list1:\n",
    "    if data[0] not in dic:\n",
    "        dic[data[0]] = list()\n",
    "        dic[data[0]].append(data)\n",
    "    else:\n",
    "        dic[data[0]].append(data)\n",
    "\n",
    "for i in range(len(Alpha)):\n",
    "    if Alpha[i] not in dic:\n",
    "        print(Alpha[i])"
   ]
  },
  {
   "cell_type": "markdown",
   "metadata": {},
   "source": [
    "#### 2.2.  'd'로 시작하는 단어들을 출력하시오. (1.5점) "
   ]
  },
  {
   "cell_type": "code",
   "execution_count": 55,
   "metadata": {},
   "outputs": [
    {
     "name": "stdout",
     "output_type": "stream",
     "text": [
      "['distributions', 'do', 'documentation', 'definitive', 'description', 'dry)', 'develop', 'developer', \"don't\", 'documentation']\n"
     ]
    }
   ],
   "source": [
    "print(dic['d'])"
   ]
  }
 ],
 "metadata": {
  "kernelspec": {
   "display_name": "Python 3",
   "language": "python",
   "name": "python3"
  },
  "language_info": {
   "codemirror_mode": {
    "name": "ipython",
    "version": 3
   },
   "file_extension": ".py",
   "mimetype": "text/x-python",
   "name": "python",
   "nbconvert_exporter": "python",
   "pygments_lexer": "ipython3",
   "version": "3.8.5"
  }
 },
 "nbformat": 4,
 "nbformat_minor": 5
}
