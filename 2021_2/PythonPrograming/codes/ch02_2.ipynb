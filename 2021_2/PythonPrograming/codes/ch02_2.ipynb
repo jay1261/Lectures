{
 "cells": [
  {
   "cell_type": "code",
   "execution_count": 5,
   "metadata": {},
   "outputs": [
    {
     "data": {
      "text/plain": [
       "2"
      ]
     },
     "execution_count": 5,
     "metadata": {},
     "output_type": "execute_result"
    }
   ],
   "source": [
    "#리스트\n",
    "a = [1, 2, 3]\n",
    "b = [\"abc\", \"bcd\", \"5\"]\n",
    "b[0] + b[1]\n",
    "c = [[1,2,3],\"abc\",7]\n",
    "c[0][1]"
   ]
  },
  {
   "cell_type": "code",
   "execution_count": 4,
   "metadata": {},
   "outputs": [
    {
     "data": {
      "text/plain": [
       "[[0, 0], [1, 1], [2, 4], [3, 9], [4, 16], [5, 25]]"
      ]
     },
     "execution_count": 4,
     "metadata": {},
     "output_type": "execute_result"
    }
   ],
   "source": [
    "#[x, x**2 for x in range(6)] #에러가 난다\n",
    "[(x, x**2) for x in range(6)] #튜플로 씌워주거나\n",
    "[[x, x**2] for x in range(6)] #리스트로 씌워주거나 해야함"
   ]
  },
  {
   "cell_type": "code",
   "execution_count": null,
   "metadata": {},
   "outputs": [],
   "source": [
    "#리스트 컴프리헨션 문제\n",
    "nums = [i for i in range(1,101) if(i%10==6 or i//10==6)]\n",
    "print(nums)\n",
    "nums = [i for i in range(1, 101) if '6' in str(i)]\n",
    "print(nums)"
   ]
  },
  {
   "cell_type": "code",
   "execution_count": 20,
   "metadata": {},
   "outputs": [],
   "source": [
    "#딕셔너리\n",
    "a = {1:'a', 2:'b'}\n",
    "#a[0] <= 리스트처럼 순서대로 접근 안되고, key값을 해야 하기 때문에 오류가 난다 \n",
    "#리스트는 키로 쓸 수 없다.\n",
    "#해싱 = 계산에 의해서 주소를 찾아감? 데이터가 아무리 많아도 일정한 함수를 돌아서 찾아가기 때문에 속도가 일정함"
   ]
  },
  {
   "cell_type": "code",
   "execution_count": 37,
   "metadata": {},
   "outputs": [
    {
     "name": "stdout",
     "output_type": "stream",
     "text": [
      "{'NFLX': 4950, 'TREX': 2400}\n",
      "{'FIZZ', 'XPO', 'TREX', 'NFLX'}\n",
      "{'NFLX': 4950, 'TREX': 2400}\n"
     ]
    }
   ],
   "source": [
    "#dict conprehention\n",
    "dict1 = {\"NFLX\":4950, \"TREX\":2400, \"FIZZ\":1800, \"XPO\":1700}\n",
    "dict2 = {i:j for i,j in dict1.items() if j > 2000}\n",
    "print(dict2)\n",
    "\n",
    "dict3 = {d for d in dict1}\n",
    "print(dict3)\n",
    "#{'FIZZ', 'XPO', 'TREX', 'NFLX'} 이렇게 나오는 이유는 키를 주면 값에 엑세스를 할 수 있다.\n",
    "\n",
    "dict4 = {d:dict1[d] for d in dict1 if dict1[d]>2000}\n",
    "print(dict4)"
   ]
  },
  {
   "cell_type": "code",
   "execution_count": 40,
   "metadata": {
    "scrolled": false
   },
   "outputs": [
    {
     "name": "stdout",
     "output_type": "stream",
     "text": [
      "{1, 2, 3}\n",
      "{1, 2, 3}\n"
     ]
    }
   ],
   "source": [
    "#집합\n",
    "s1 = {1,2,3}\n",
    "print(s1)\n",
    "s2 = set([1,2,3])\n",
    "print(s2)"
   ]
  },
  {
   "cell_type": "code",
   "execution_count": 9,
   "metadata": {},
   "outputs": [
    {
     "data": {
      "text/plain": [
       "{'b', 'j', 'k', 'q', 'x', 'z'}"
      ]
     },
     "execution_count": 9,
     "metadata": {},
     "output_type": "execute_result"
    }
   ],
   "source": [
    "s1=set(\"Usingdictcomprehensionandaconditionalargumentcreateadictionaryfromthecurrentdictionarydict\")\n",
    "s2=set(\"abcdefghijklmnopqrstuxyz\")\n",
    "s2 - s1"
   ]
  },
  {
   "cell_type": "code",
   "execution_count": 3,
   "metadata": {},
   "outputs": [
    {
     "name": "stdout",
     "output_type": "stream",
     "text": [
      "[-8, -4, 0, 4, 8]\n",
      "[0, 2, 4]\n",
      "[4, 2, 0, 2, 4]\n"
     ]
    },
    {
     "data": {
      "text/plain": [
       "['banana', 'loganberry', 'passion fruit']"
      ]
     },
     "execution_count": 3,
     "metadata": {},
     "output_type": "execute_result"
    }
   ],
   "source": [
    "vec = [-4, -2, 0 , 2, 4]\n",
    "a = [x*2 for x in vec]\n",
    "print(a)\n",
    "a1 = [x for x in vec if x>= 0]\n",
    "print(a1)\n",
    "a2 = [abs(x) for x in vec]\n",
    "print(a2)\n",
    "\n",
    "freshfruit = ['banana','loganberry','passion fruit']\n",
    "[weapon.strip() for weapon in freshfruit]\n",
    "\n",
    "\n"
   ]
  },
  {
   "cell_type": "code",
   "execution_count": 16,
   "metadata": {},
   "outputs": [
    {
     "name": "stdout",
     "output_type": "stream",
     "text": [
      "[[2, 4, 6, 8, 10, 12, 14, 16, 18], [3, 6, 9, 12, 15, 18, 21, 24, 27]]\n",
      "[[2, 4, 6, 8, 10, 12, 14, 16, 18], [3, 6, 9, 12, 15, 18, 21, 24, 27]]\n"
     ]
    }
   ],
   "source": [
    "#for문을 이용하여 구구단\n",
    "list_a = []\n",
    "for i in range(2,4):\n",
    "    temp_list = []\n",
    "    for j in range(1,10):\n",
    "        temp_list.append(i*j)\n",
    "    list_a.append(temp_list)\n",
    "print(list_a)\n",
    "\n",
    "\n",
    "list_b = [[i * j for i in range(1, 10)] for j in range(2, 4)]\n",
    "print(list_b)"
   ]
  },
  {
   "cell_type": "code",
   "execution_count": 7,
   "metadata": {},
   "outputs": [
    {
     "name": "stdout",
     "output_type": "stream",
     "text": [
      "[[2, 4, 6, 8, 10, 12, 14, 16, 18], [3, 6, 9, 12, 15, 18, 21, 24, 27]]\n",
      "[[2, 4, 6, 8, 10, 12, 14, 16, 18], [3, 6, 9, 12, 15, 18, 21, 24, 27]]\n"
     ]
    }
   ],
   "source": [
    "\n",
    "gugu = []\n",
    "for i in range(2,4):\n",
    "    dan = []\n",
    "    for j in range(1,10):\n",
    "        dan.append(i*j)\n",
    "    gugu.append(dan)\n",
    "print(gugu)\n",
    "\n",
    "gugu_for = [[x*i for i in range(1,10)] for x in range(2,4)]\n",
    "print(gugu_for)"
   ]
  },
  {
   "cell_type": "code",
   "execution_count": 8,
   "metadata": {},
   "outputs": [
    {
     "name": "stdout",
     "output_type": "stream",
     "text": [
      "[[2, 4, 6, 8, 10, 12, 14, 16, 18], [3, 6, 9, 12, 15, 18, 21, 24, 27]]\n",
      "[[2, 4, 6, 8, 10, 12, 14, 16, 18], [3, 6, 9, 12, 15, 18, 21, 24, 27]]\n"
     ]
    }
   ],
   "source": [
    "ans = []\n",
    "ans.append([i * 2 for i in range(1, 10)])\n",
    "ans.append([i * 3 for i in range(1, 10)])\n",
    "print(ans)\n",
    "ans = [[i * j for i in range(1, 10)] for j in range(2, 4)]\n",
    "print(ans)"
   ]
  },
  {
   "cell_type": "code",
   "execution_count": null,
   "metadata": {},
   "outputs": [],
   "source": []
  }
 ],
 "metadata": {
  "interpreter": {
   "hash": "aee8b7b246df8f9039afb4144a1f6fd8d2ca17a180786b69acc140d282b71a49"
  },
  "kernelspec": {
   "display_name": "Python 3",
   "language": "python",
   "name": "python3"
  },
  "language_info": {
   "codemirror_mode": {
    "name": "ipython",
    "version": 3
   },
   "file_extension": ".py",
   "mimetype": "text/x-python",
   "name": "python",
   "nbconvert_exporter": "python",
   "pygments_lexer": "ipython3",
   "version": "3.8.5"
  }
 },
 "nbformat": 4,
 "nbformat_minor": 4
}
