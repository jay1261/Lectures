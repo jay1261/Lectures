{
 "cells": [
  {
   "cell_type": "code",
   "execution_count": 2,
   "metadata": {},
   "outputs": [
    {
     "name": "stdout",
     "output_type": "stream",
     "text": [
      "233168\n"
     ]
    }
   ],
   "source": [
    "#6-2 3과 5의 배수 합하기\n",
    "result = 0\n",
    "for n in range(1, 1000):\n",
    "    if n % 3 ==0 or n % 5 == 0:\n",
    "        result += n\n",
    "print(result)"
   ]
  },
  {
   "cell_type": "code",
   "execution_count": 10,
   "metadata": {},
   "outputs": [
    {
     "name": "stdout",
     "output_type": "stream",
     "text": [
      "1\n",
      "2\n",
      "3\n",
      "3\n"
     ]
    }
   ],
   "source": [
    "# 6-3 게시판 페이징 하기\n",
    "def getTotalPage(m, n):\n",
    "    if m % n == 0:\n",
    "        return m // n\n",
    "    else:\n",
    "        return m // n + 1\n",
    "print(getTotalPage(5,10))\n",
    "print(getTotalPage(15, 10))\n",
    "print(getTotalPage(25, 10))\n",
    "print(getTotalPage(30, 10))"
   ]
  },
  {
   "cell_type": "code",
   "execution_count": 9,
   "metadata": {},
   "outputs": [
    {
     "name": "stdout",
     "output_type": "stream",
     "text": [
      "Life is too short\n",
      "You need python\n",
      "\n"
     ]
    }
   ],
   "source": [
    "# 6-4 간단한 메모장 만들기\n",
    "!python ch06_04_memo.py -a \"Life is too short\"\n",
    "!python ch06_04_memo.py -a \"You need python\"\n",
    "!python ch06_04_memo.py -v"
   ]
  },
  {
   "cell_type": "code",
   "execution_count": 31,
   "metadata": {},
   "outputs": [
    {
     "name": "stdout",
     "output_type": "stream",
     "text": [
      "Life    is    too    short\n",
      "You    need    python\n",
      "\n"
     ]
    }
   ],
   "source": [
    "import sys\n",
    "\n",
    "# src = sys.argv[1]\n",
    "# dst = sys.argv[2]\n",
    "src = \"a.txt\"\n",
    "dst = \"b.txt\"\n",
    "\n",
    "f = open(src)\n",
    "tab_content = f.read()\n",
    "f.close()\n",
    "\n",
    "#\\t을써도 공백으로 인식해서 .으로 변경\n",
    "space_content = tab_content.replace(\".\", \" \"*4)\n",
    "\n",
    "f = open(dst, 'w')\n",
    "f.write(space_content)\n",
    "f.close()\n",
    "\n",
    "f = open(dst,'r')\n",
    "print(f.read())"
   ]
  },
  {
   "cell_type": "code",
   "execution_count": 1,
   "metadata": {},
   "outputs": [
    {
     "name": "stdout",
     "output_type": "stream",
     "text": [
      "/Users/jay/desktop/Lecture/2021_2/파이썬프로그래밍_이정준/codes/mod1.py\n",
      "/Users/jay/desktop/Lecture/2021_2/파이썬프로그래밍_이정준/codes/mymod/mod3.py\n",
      "/Users/jay/desktop/Lecture/2021_2/파이썬프로그래밍_이정준/codes/Jocoding.py\n",
      "/Users/jay/desktop/Lecture/2021_1/과제들/디지털신호처리/디신 과제2/ch03_module.py\n",
      "/Users/jay/desktop/Lecture/2021_1/과제들/디지털신호처리/디신 과제2/HW_1_2019152051.py\n",
      "/Users/jay/desktop/Lecture/2021_1/과제들/디지털신호처리/디신 과제2/HW_2_2019152051.py\n"
     ]
    }
   ],
   "source": [
    "import os\n",
    "\n",
    "def search(dirname):\n",
    "    try:\n",
    "        filenames = os.listdir(dirname)\n",
    "        for filename in filenames:\n",
    "            full_filename = os.path.join(dirname, filename)\n",
    "            if os.path.isdir(full_filename):\n",
    "                search(full_filename)\n",
    "            else:\n",
    "                ext = os.path.splitext(full_filename)[-1]\n",
    "                if ext == '.py': \n",
    "                    print(full_filename)\n",
    "    except PermissionError:\n",
    "        pass\n",
    "\n",
    "search(\"/Users/jay/desktop/Lecture\") # 맥북환경"
   ]
  }
 ],
 "metadata": {
  "interpreter": {
   "hash": "22060db212986357581e62361c3eebebeb6449cac1057860b607030f5c42b833"
  },
  "kernelspec": {
   "display_name": "Python 3.8.5 64-bit ('base': conda)",
   "name": "python3"
  },
  "language_info": {
   "codemirror_mode": {
    "name": "ipython",
    "version": 3
   },
   "file_extension": ".py",
   "mimetype": "text/x-python",
   "name": "python",
   "nbconvert_exporter": "python",
   "pygments_lexer": "ipython3",
   "version": "3.8.5"
  }
 },
 "nbformat": 4,
 "nbformat_minor": 2
}
