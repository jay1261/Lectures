{
 "cells": [
  {
   "cell_type": "code",
   "execution_count": 7,
   "metadata": {},
   "outputs": [],
   "source": [
    "#중간고사 시험문제\n",
    "#6-1\n",
    "sum = 0 \n",
    "for i in range(10):\n",
    "    if(i%3 == 0):\n",
    "        continue\n",
    "    if(i%7 ==0):\n",
    "        break\n",
    "    sum += i\n",
    "#print(sum)"
   ]
  },
  {
   "cell_type": "code",
   "execution_count": 8,
   "metadata": {},
   "outputs": [],
   "source": [
    "#6-2\n",
    "a = 'abcdedf'\n",
    "#print(a[-2::-2])"
   ]
  },
  {
   "cell_type": "code",
   "execution_count": 9,
   "metadata": {},
   "outputs": [],
   "source": [
    "#6-3\n",
    "ws1 = set('apple')\n",
    "ws2 = set('banana')\n",
    "#print(len(ws1-ws2))"
   ]
  },
  {
   "cell_type": "code",
   "execution_count": 10,
   "metadata": {},
   "outputs": [],
   "source": [
    "#6-4\n",
    "def f(num):\n",
    "    if num < 2:\n",
    "        return num\n",
    "    else:\n",
    "        return f(num-1) + f(num-2)\n",
    "\n",
    "def f(n):\n",
    "    a,b = 0, 1\n",
    "    while b < n:\n",
    "        a, b = b, a+b # 빈칸\n",
    "        return b"
   ]
  },
  {
   "cell_type": "code",
   "execution_count": 11,
   "metadata": {},
   "outputs": [
    {
     "name": "stdout",
     "output_type": "stream",
     "text": [
      "15\n",
      "11\n"
     ]
    }
   ],
   "source": [
    "#7\n",
    "print(13|6)\n",
    "print(13^6)"
   ]
  },
  {
   "cell_type": "code",
   "execution_count": 12,
   "metadata": {},
   "outputs": [
    {
     "name": "stdout",
     "output_type": "stream",
     "text": [
      "Error is 98%\n",
      "I ate 3 apples. so I was sick for 2 days\n",
      "    hi    \n"
     ]
    }
   ],
   "source": [
    "print(\"Error is %d%%\" % 98) # %%\n",
    "print(\"I ate {0} apples. so I was sick for {1} days\".format(3,2)) # format()\n",
    "print(\"{0:^10}\".format(\"hi\"))\n"
   ]
  },
  {
   "cell_type": "code",
   "execution_count": 13,
   "metadata": {},
   "outputs": [
    {
     "name": "stdout",
     "output_type": "stream",
     "text": [
      "[5, 1, 2, 3, 4]\n"
     ]
    }
   ],
   "source": [
    "a = [1,2,3,4]\n",
    "a.insert(0,5)\n",
    "print(a)"
   ]
  },
  {
   "cell_type": "code",
   "execution_count": 14,
   "metadata": {},
   "outputs": [
    {
     "name": "stdout",
     "output_type": "stream",
     "text": [
      "False\n"
     ]
    }
   ],
   "source": [
    "a = [1,2,3]\n",
    "b = a[:] #복사\n",
    "print(b is a)"
   ]
  },
  {
   "cell_type": "code",
   "execution_count": 15,
   "metadata": {},
   "outputs": [
    {
     "name": "stdout",
     "output_type": "stream",
     "text": [
      "881120 1068234\n",
      "남자\n",
      "a#b#c#d\n",
      "[5, 4, 3, 2, 1]\n",
      "Life is too short\n"
     ]
    },
    {
     "data": {
      "text/plain": [
       "{1, 2, 3, 4, 5}"
      ]
     },
     "execution_count": 15,
     "metadata": {},
     "output_type": "execute_result"
    }
   ],
   "source": [
    "#2장 연습문제\n",
    "(80+75+55)/3\n",
    "pin = \"881120-1068234\"\n",
    "print(pin[0:6] +\" \"+  pin[7:])\n",
    "if pin[7] == \"1\":\n",
    "    print(\"남자\")\n",
    "else:\n",
    "    print(\"여자\")\n",
    "\n",
    "a = \"a:b:c:d\"\n",
    "print(a.replace(':',\"#\"))\n",
    "\n",
    "list1 = [1, 3, 5, 4, 2]\n",
    "list1.sort(reverse=True)\n",
    "print(list1)\n",
    "\n",
    "a = ['Life','is','too','short']\n",
    "print(\" \".join(a))\n",
    "\n",
    "(1,2,3) + (4,)\n",
    "\n",
    "a = dict()\n",
    "#a['name'] = \"python\"\n",
    "#a[('a',)] = 'pyrhon'\n",
    "#a[[1]] = 'python' 이거는 key에 리스트가 들어갈 수 없어서 오류다.\n",
    "#a[250] = 'python'\n",
    "\n",
    "a = {'A':90, 'B':80, 'C':70}\n",
    "a.pop('B')\n",
    "a = [1,1,1,2,2,3,3,3,4,4,5]\n",
    "set(a)"
   ]
  },
  {
   "cell_type": "code",
   "execution_count": 16,
   "metadata": {},
   "outputs": [
    {
     "name": "stdout",
     "output_type": "stream",
     "text": [
      "1 2\n",
      "3 4\n",
      "5 6\n",
      "[6, 12]\n",
      "shirt\n",
      "[6, 12, 3, 6, 9, 12, 15, 18, 21, 24, 27, 30, 33, 36, 39, 42, 45, 48, 51, 54, 57, 60, 63, 66, 69, 72, 75, 78, 81, 84, 87, 90, 93, 96, 99, 102, 105, 108, 111, 114, 117, 120, 123, 126, 129, 132, 135, 138, 141, 144, 147, 150, 153, 156, 159, 162, 165, 168, 171, 174, 177, 180, 183, 186, 189, 192, 195, 198, 201, 204, 207, 210, 213, 216, 219, 222, 225, 228, 231, 234, 237, 240, 243, 246, 249, 252, 255, 258, 261, 264, 267, 270, 273, 276, 279, 282, 285, 288, 291, 294, 297, 300, 303, 306, 309, 312, 315, 318, 321, 324, 327, 330, 333, 336, 339, 342, 345, 348, 351, 354, 357, 360, 363, 366, 369, 372, 375, 378, 381, 384, 387, 390, 393, 396, 399, 402, 405, 408, 411, 414, 417, 420, 423, 426, 429, 432, 435, 438, 441, 444, 447, 450, 453, 456, 459, 462, 465, 468, 471, 474, 477, 480, 483, 486, 489, 492, 495, 498, 501, 504, 507, 510, 513, 516, 519, 522, 525, 528, 531, 534, 537, 540, 543, 546, 549, 552, 555, 558, 561, 564, 567, 570, 573, 576, 579, 582, 585, 588, 591, 594, 597, 600, 603, 606, 609, 612, 615, 618, 621, 624, 627, 630, 633, 636, 639, 642, 645, 648, 651, 654, 657, 660, 663, 666, 669, 672, 675, 678, 681, 684, 687, 690, 693, 696, 699, 702, 705, 708, 711, 714, 717, 720, 723, 726, 729, 732, 735, 738, 741, 744, 747, 750, 753, 756, 759, 762, 765, 768, 771, 774, 777, 780, 783, 786, 789, 792, 795, 798, 801, 804, 807, 810, 813, 816, 819, 822, 825, 828, 831, 834, 837, 840, 843, 846, 849, 852, 855, 858, 861, 864, 867, 870, 873, 876, 879, 882, 885, 888, 891, 894, 897, 900, 903, 906, 909, 912, 915, 918, 921, 924, 927, 930, 933, 936, 939, 942, 945, 948, 951, 954, 957, 960, 963, 966, 969, 972, 975, 978, 981, 984, 987, 990, 993, 996, 999]\n",
      "*\n",
      "**\n",
      "***\n",
      "****\n",
      "*****\n",
      "1 2 3 4 5 6 7 8 9 10 11 12 13 14 15 16 17 18 19 20 21 22 23 24 25 26 27 28 29 30 31 32 33 34 35 36 37 38 39 40 41 42 43 44 45 46 47 48 49 50 51 52 53 54 55 56 57 58 59 60 61 62 63 64 65 66 67 68 69 70 71 72 73 74 75 76 77 78 79 80 81 82 83 84 85 86 87 88 89 90 91 92 93 94 95 96 97 98 99 100 70\n",
      "130\n",
      "185\n",
      "260\n",
      "355\n",
      "445\n",
      "525\n",
      "605\n",
      "690\n",
      "790\n",
      "79.0\n",
      "[2, 6, 10]\n"
     ]
    }
   ],
   "source": [
    "#for문\n",
    "a = [(1,2),(3,4),(5,6)]\n",
    "for (first, last) in a:\n",
    "    print(first,last)\n",
    "\n",
    "#list conprehension\n",
    "a = [1,2,3,4]\n",
    "result = [i*3 for i in a if i%2 == 0]\n",
    "print(result)\n",
    "\n",
    "#3장 연습문제\n",
    "a = \"Life is too short, you need python\"\n",
    "if \"wife\" in a: print(\"wife\")\n",
    "elif \"python\" in a and \"you\" not in a: print(\"python\")\n",
    "elif \"shirt\" not in a: print(\"shirt\")\n",
    "elif \"need\" in a: print(\"need\")\n",
    "else: print(\"none\")\n",
    "\n",
    "i = 0\n",
    "while i<=1000:\n",
    "    i += 1\n",
    "    if i%3 == 0:\n",
    "        result.append(i)\n",
    "print(result)\n",
    "\n",
    "n=1\n",
    "while n <=5 :\n",
    "    print(\"*\"*n)\n",
    "    n+=1\n",
    "\n",
    "for i in range(1,101):\n",
    "    print(i, end=\" \")\n",
    "\n",
    "grades = [70, 60, 55, 75, 95, 90, 80, 80, 85, 100]\n",
    "sum = 0\n",
    "for grade in grades:\n",
    "    sum += grade\n",
    "    print(sum)\n",
    "result = sum / len(grades)\n",
    "print(result)\n",
    "\n",
    "\n",
    "numbers = [1,2,3,4,5]\n",
    "result = [n*2 for n in numbers if n % 2 != 0]\n",
    "print(result)"
   ]
  },
  {
   "cell_type": "code",
   "execution_count": 17,
   "metadata": {},
   "outputs": [
    {
     "name": "stdout",
     "output_type": "stream",
     "text": [
      "number of statements = 27\n",
      "number of statements = 27\n"
     ]
    }
   ],
   "source": [
    "#4장\n",
    "add = lambda x, y : x+y\n",
    "add(3,4)\n",
    "\n",
    "#read\n",
    "f = open(\"output.txt\", 'r')\n",
    "while True:\n",
    "    line = f.readline()\n",
    "    if not line : break\n",
    "    print(line)\n",
    "f.close()\n",
    "\n",
    "with open(\"output.txt\") as f:\n",
    "    line2 = f.read()\n",
    "    print(line2)\n"
   ]
  },
  {
   "cell_type": "code",
   "execution_count": 18,
   "metadata": {},
   "outputs": [
    {
     "name": "stdout",
     "output_type": "stream",
     "text": [
      "짝수\n",
      "None\n",
      "홀수\n",
      "None\n",
      "16.0\n"
     ]
    }
   ],
   "source": [
    "#4장 연습문제\n",
    "def is_odd(num):\n",
    "    if num % 2 == 0:\n",
    "        print(\"짝수\")\n",
    "    else:\n",
    "        print(\"홀수\")\n",
    "\n",
    "print(is_odd(4))\n",
    "print(is_odd(5))\n",
    "\n",
    "def get_average(*avrg):\n",
    "    sum = 0\n",
    "    for i in range(len(avrg)):\n",
    "        sum += avrg[i]\n",
    "    result = sum / len(avrg)\n",
    "    return result\n",
    "    \n",
    "print(get_average(5,10,15,20,30))\n",
    "\n"
   ]
  },
  {
   "cell_type": "code",
   "execution_count": 19,
   "metadata": {},
   "outputs": [
    {
     "name": "stdout",
     "output_type": "stream",
     "text": [
      "3\n",
      "11\n",
      "division by zero\n"
     ]
    }
   ],
   "source": [
    "#5장\n",
    "#class\n",
    "\n",
    "class Calculator:\n",
    "    def __init__(self):\n",
    "        self.result = 0\n",
    "    def add(self,num):\n",
    "        self.result += num\n",
    "        return self.result\n",
    "    \n",
    "a = Calculator()\n",
    "print(a.add(3))\n",
    "print(a.add(8))\n",
    "\n",
    "#모듈\n",
    "#import mod \n",
    "#from mod import *\n",
    "\n",
    "try:\n",
    "    4/0 \n",
    "except ZeroDivisionError as e:\n",
    "    print(e)"
   ]
  },
  {
   "cell_type": "code",
   "execution_count": 20,
   "metadata": {},
   "outputs": [
    {
     "name": "stdout",
     "output_type": "stream",
     "text": [
      "3\n",
      "[1, 3, 8]\n",
      "[3, 6, 9, 12]\n",
      "7\n",
      "-8\n",
      "5.6667\n",
      "Tue Oct 19 15:17:05 2021\n",
      "12\n",
      "44\n",
      "21\n",
      "5\n",
      "11\n",
      "44\n"
     ]
    }
   ],
   "source": [
    "#5장 연습문제\n",
    "class Calculator:\n",
    "    def __init__(self):\n",
    "        self.value = 0\n",
    "\n",
    "    def add(self, val):\n",
    "        self.value += val\n",
    "\n",
    "class UpgradeCalculator(Calculator):\n",
    "    def minus(self,val):\n",
    "        self.value -= val\n",
    "\n",
    "cal = UpgradeCalculator()\n",
    "cal.add(10)\n",
    "cal.minus(7)\n",
    "\n",
    "print(cal.value)\n",
    "\n",
    "\n",
    "print(list(filter(lambda x:x>0,[1, -2, 3, -5, 8, -3])))\n",
    "\n",
    "print(list(map(lambda x:x*3,[1,2,3,4])))\n",
    "\n",
    "print(max([-8, 2, 7, 5, -3, 5, 0, 1]))\n",
    "print(min([-8, 2, 7, 5, -3, 5, 0, 1]))\n",
    "\n",
    "print(round(17/3,4))\n",
    "\n",
    "import time\n",
    "print(time.strftime(\"%c\",time.localtime(time.time())))\n",
    "\n",
    "import random\n",
    "for i in range(6):\n",
    "    print(random.randint(1,45))\n",
    "    \n"
   ]
  },
  {
   "cell_type": "code",
   "execution_count": 21,
   "metadata": {},
   "outputs": [
    {
     "name": "stdout",
     "output_type": "stream",
     "text": [
      "division by zero\n",
      "[[2, 4, 6, 8, 10, 12, 14, 16, 18], [3, 6, 9, 12, 15, 18, 21, 24, 27]]\n"
     ]
    }
   ],
   "source": [
    "try:\n",
    "    4/0\n",
    "except ZeroDivisionError as e:\n",
    "    print(e)\n",
    "\n",
    "\n",
    "f = lambda a,b: (a+b, a*b)\n",
    "f(2,3)\n",
    "\n",
    "list1 = [[i*j for i in range(1,10)] for j in range(2,4)]\n",
    "print(list1)"
   ]
  },
  {
   "cell_type": "code",
   "execution_count": 22,
   "metadata": {},
   "outputs": [
    {
     "name": "stdout",
     "output_type": "stream",
     "text": [
      "5\n",
      "\n",
      "나는\n",
      "바보다\n",
      "나는 바보다!\n",
      "나는 바보바바바보밥보바보바보바다!\n",
      "나는 오승연\n",
      "오승연 = 이동재\n"
     ]
    }
   ],
   "source": [
    "result = 0\n",
    "for i in range(5):\n",
    "    for j in range(5):\n",
    "        if (i+j > 3):\n",
    "            break\n",
    "        else: \n",
    "            result += i*j\n",
    "print(result)\n"
   ]
  }
 ],
 "metadata": {
  "interpreter": {
   "hash": "aee8b7b246df8f9039afb4144a1f6fd8d2ca17a180786b69acc140d282b71a49"
  },
  "kernelspec": {
   "display_name": "Python 3.9.2 64-bit",
   "name": "python3"
  },
  "language_info": {
   "codemirror_mode": {
    "name": "ipython",
    "version": 3
   },
   "file_extension": ".py",
   "mimetype": "text/x-python",
   "name": "python",
   "nbconvert_exporter": "python",
   "pygments_lexer": "ipython3",
   "version": "3.9.2"
  },
  "orig_nbformat": 4
 },
 "nbformat": 4,
 "nbformat_minor": 2
}
