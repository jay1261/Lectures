{
 "cells": [
  {
   "cell_type": "code",
   "execution_count": 1,
   "metadata": {},
   "outputs": [],
   "source": [
    "## 5.1 클래스\n",
    "# 다음 Airforce 클래스를 이용하여 질문에 답하라. \n",
    "class Airforce:\n",
    "    def __init__(self, name, p):\n",
    "        self.name = name\n",
    "        self.power = p"
   ]
  },
  {
   "cell_type": "code",
   "execution_count": 2,
   "metadata": {},
   "outputs": [
    {
     "name": "stdout",
     "output_type": "stream",
     "text": [
      "F14 50\n"
     ]
    }
   ],
   "source": [
    "# (1점) 5.1.1   다음과 같은 (name, power)를 갖는 \n",
    "# Airforce 인스턴스 a1을 만들고, a1의 name, power를 출력하시오\n",
    "# (name, power) =  (\"F14\",50)  \n",
    "\n",
    "# ---- 답안 시작 --------\n",
    "a1 = Airforce(\"F14\", 50)\n",
    "print(a1.name, a1.power)"
   ]
  },
  {
   "cell_type": "code",
   "execution_count": 3,
   "metadata": {},
   "outputs": [
    {
     "name": "stdout",
     "output_type": "stream",
     "text": [
      "# of Jets= 2\n"
     ]
    }
   ],
   "source": [
    "# (1점) 5.1.2 Airforce를 상속하여 다음 조건을 만족하는 Jet 클래스를 완성/구현하시오. \n",
    "#  - Jet 클래스 인스턴스들의 수를 저장하는 클래스 변수 cnt를 만들라\n",
    "#  - 생성자와 소멸자를 cnt에 인스턴스의 수가 유지되도록 작성하라. \n",
    "#  - (\"F14\",50), (\"SU33\", 60), (\"Mirage2000\", 45) 값을 갖는 Jet 인스턴스를 만들고, \n",
    "#  - 두번째 인스턴스를 제거한후, Jet.cnt를 출력한다. \n",
    "\n",
    "# ---- 답안 시작 --------\n",
    "class Jet(Airforce):\n",
    "    cnt = 0\n",
    "    def __init__(self, name, p):\n",
    "        #print(\"생성 \", Jet.cnt)\n",
    "        self.name = name\n",
    "        self.power = p\n",
    "        Jet.cnt += 1\n",
    "        \n",
    "    def __del__(self):\n",
    "        #print(\"삭제 \", Jet.cnt)\n",
    "        Jet.cnt -= 1\n",
    "# 교수님 최초 1회 실행을 하면 cnt값이 2로 나오지만, 두번째 이후 실행 했을 때는 j1,j3가 이미 있어서, 생성자 호출 이후에 객체 중복됨이 확인되고 바로 \n",
    "# 소멸자가 호출되는 것 같습니다. 그래서 연속으로 실행해보면 값이 0으로 나옵니다.\n",
    "\n",
    "# --- 답안 end ----------\n",
    "\n",
    "# 다음 코드는 수정하지 마시오.         \n",
    "j1 = Jet(\"F14\",50)\n",
    "j2 = Jet(\"SU33\", 60)\n",
    "j3 = Jet(\"Mirage2000\", 45)\n",
    "del j2\n",
    "print(\"# of Jets=\", j3.cnt)"
   ]
  },
  {
   "cell_type": "code",
   "execution_count": 4,
   "metadata": {},
   "outputs": [
    {
     "name": "stdout",
     "output_type": "stream",
     "text": [
      "(F16, 150)\n"
     ]
    }
   ],
   "source": [
    "# (1점) 5.1.3 Airforce를 상속하여 다음 조건을 만족하는 Helicopter 클래스를 완성/구현하시오. \n",
    "# Airforce instance 변수를 print 함수로 출력하면, 그내용을 볼 수 없다. \n",
    "# print 함수의 파라미터에 Helicopter instance를 주면,  (name, power)  형태가 나오도록 \n",
    "# __str__ 함수를  멤버함수로 만드시오.\n",
    "\n",
    "# ---- 답안 시작 --------\n",
    "class Helicopter(Airforce):\n",
    "    def __str__(self):\n",
    "        return f'(%s, %s)' % (self.name, self.power)\n",
    "# --- 답안 end ----------\n",
    "\n",
    "    \n",
    "# 다음을 수정하지 마시오.     \n",
    "h =  Helicopter(\"F16\",150)   \n",
    "print(h)"
   ]
  },
  {
   "cell_type": "markdown",
   "metadata": {},
   "source": [
    "## 5.5 내장함수 과제"
   ]
  },
  {
   "cell_type": "code",
   "execution_count": 2,
   "metadata": {},
   "outputs": [
    {
     "name": "stdout",
     "output_type": "stream",
     "text": [
      "{'Netflix': 198, 'Hulu': 166, 'Sling': 237, 'Hbo': 125}\n"
     ]
    }
   ],
   "source": [
    "# (1점) 5.5.1  zip 및 dict 함수를 사용하여 ott 및 revenue(수익)에서 오는 \n",
    "# 키(ott회사), 값(회사수익) 쌍이 있는 사전(dict)을 만들고,  \n",
    "# ottrank에 저장하고 출력하시오 \n",
    "\n",
    "ott =[\"Netflix\", \"Hulu\", \"Sling\", \"Hbo\"]\n",
    "revenue =[198, 166, 237, 125]\n",
    "\n",
    "# ---- 답안 시작 --------\n",
    "ottrank = dict(zip(ott,revenue))\n",
    "print(ottrank)\n",
    "# --- 답안 end ----------"
   ]
  },
  {
   "cell_type": "code",
   "execution_count": 7,
   "metadata": {},
   "outputs": [
    {
     "name": "stdout",
     "output_type": "stream",
     "text": [
      "['Hbo', 'Hulu', 'Netflix', 'Sling']\n"
     ]
    }
   ],
   "source": [
    "# (1점) 5.5.2  위의 5.5.1에서 만든  ottrank에서 ott회사를 \n",
    "# 이름순 정렬하여(혹은 정렬된 리스트로) 출력하시오. \n",
    "\n",
    "\n",
    "# ---- 답안 시작 --------\n",
    "print(sorted(ottrank))\n",
    "# --- 답안 end ----------"
   ]
  },
  {
   "cell_type": "code",
   "execution_count": 9,
   "metadata": {},
   "outputs": [
    {
     "data": {
      "text/plain": [
       "['Sling', 'Netflix', 'Hulu', 'Hbo']"
      ]
     },
     "execution_count": 9,
     "metadata": {},
     "output_type": "execute_result"
    }
   ],
   "source": [
    "# (1점) 5.5.3  위의 5.5.1에서 만든  ottrank에서 \n",
    "# 회사수익(revenue)이 많은 순으로 회사이름을 출력하시오. \n",
    "# 단, sorted 함수를 이용하라. \n",
    "# ---- 답안 시작 --------\n",
    "sorted(ottrank, key = lambda x : ottrank[x],reverse=True)\n",
    "#sorted_dict = sorted(ottrank.values(),reverse=True)\n",
    "#sorted(ottrank, key = ottrank.get ,reverse=True)\n",
    "# --- 답안 end ----------"
   ]
  },
  {
   "cell_type": "code",
   "execution_count": 9,
   "metadata": {},
   "outputs": [
    {
     "name": "stdout",
     "output_type": "stream",
     "text": [
      "{'Sling': 237, 'Netflix': 198, 'Hulu': 166, 'Hbo': 125}\n"
     ]
    }
   ],
   "source": [
    "# (1점) 5.5.4  위의 5.5.1에서 만든  ottrank에서 \n",
    "# 회사수익(revenue) 많은 순으로 \n",
    "# 회사이름(key)과 수익(valeu)로 구성된 사전을 출력하시오.\n",
    "# ---- 답안 시작 --------\n",
    "sorted_dict = dict(sorted(ottrank.items(),key= lambda x : x[1], reverse=True))\n",
    "print(sorted_dict)\n",
    "# --- 답안 end ----------"
   ]
  },
  {
   "cell_type": "code",
   "execution_count": 30,
   "metadata": {
    "scrolled": true
   },
   "outputs": [
    {
     "name": "stdout",
     "output_type": "stream",
     "text": [
      "Netflix: 198  Sling: 237  \n",
      "{'Netflix': 198, 'Sling': 237}\n"
     ]
    }
   ],
   "source": [
    "# (1점) 5.5.5 위의 5.5.1에서 만든  ottrank에서 \n",
    "# 회사수익이 175 이상인 회사와 수익을 출력하시오. \n",
    "# filter 함수를 이용하되, 출력결과 형태는 자유\n",
    "# ---- 답안 시작 --------\n",
    "#-- 답안 1번 --\n",
    "result1 = list(filter(lambda x:x >= 175, ottrank.values()))\n",
    "temp = {v:k for k,v in ottrank.items()}\n",
    "for i in range(len(result1)):\n",
    "    print(f'%s: %s' % (temp.get(result1[i]),result1[i]), end=\"  \")\n",
    "print()\n",
    "#-- 답안 2번 --\n",
    "result2 = {k : v for k, v in ottrank.items() if v in list(filter(lambda x:x >= 175, ottrank.values()))}\n",
    "print(result2)\n",
    "\n",
    "# --- 답안 end ----------"
   ]
  },
  {
   "cell_type": "code",
   "execution_count": 13,
   "metadata": {},
   "outputs": [
    {
     "data": {
      "text/plain": [
       "[('Netflix', 200), ('Hulu', 200), ('Sling', 237), ('Hbo', 100)]"
      ]
     },
     "execution_count": 13,
     "metadata": {},
     "output_type": "execute_result"
    }
   ],
   "source": [
    "# (2점) 5.5.6 위의 5.5.1에서 만든  ottrank에서 \n",
    "# 회사수익(revenue)이 200이하인 회사는 \n",
    "# 회사수익을 10 (십)자리에서 반올림하여 회사이름과 수익을 출력하시오. \n",
    "# 단, 가급적 map 함수를 이용하여 한줄로 구현하라\n",
    "# (map을 사용하지 않는 경우, 1점 감점). \n",
    "# 출력결과 형태는 자유\n",
    "\n",
    "# ---- 답안 시작 --------\n",
    "list(zip(ottrank.keys(),map(lambda x:round(x,-2) if x <= 200 else x,ottrank.values())))\n",
    "list(map(lambda x: (x[0], round(x[1],-2)) if x[1] <= 200 else (x[0],x[1]), ottrank.items()))\n",
    "# --- 답안 end ----------\n"
   ]
  }
 ],
 "metadata": {
  "interpreter": {
   "hash": "22060db212986357581e62361c3eebebeb6449cac1057860b607030f5c42b833"
  },
  "kernelspec": {
   "display_name": "Python 3.8.5 64-bit ('base': conda)",
   "name": "python3"
  },
  "language_info": {
   "codemirror_mode": {
    "name": "ipython",
    "version": 3
   },
   "file_extension": ".py",
   "mimetype": "text/x-python",
   "name": "python",
   "nbconvert_exporter": "python",
   "pygments_lexer": "ipython3",
   "version": "3.8.5"
  }
 },
 "nbformat": 4,
 "nbformat_minor": 5
}
