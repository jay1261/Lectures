{
 "cells": [
  {
   "cell_type": "code",
   "execution_count": 1,
   "metadata": {},
   "outputs": [
    {
     "name": "stdout",
     "output_type": "stream",
     "text": [
      "121313 [121313, 222323, 323333, 424343, 525353, 626363, 828383, 929393]\n",
      "179.80965399742126\n"
     ]
    }
   ],
   "source": [
    "\"\"\"\n",
    "project euler #51\n",
    "By replacing the 1st digit of the 2-digit number *3, it turns out that six of the nine possible values: 13, 23, 43, 53, 73, and 83, are all prime.\n",
    "\n",
    "By replacing the 3rd and 4th digits of 56**3 with the same digit, this 5-digit number is the first example having seven primes among the ten generated numbers,\n",
    "yielding the family: 56003, 56113, 56333, 56443, 56663, 56773, and 56993. Consequently 56003, being the first member of this family, is the smallest prime with this property.\n",
    "\n",
    "Find the smallest prime which, by replacing part of the number (not necessarily adjacent digits) with the same digit, is part of an eight prime value family.\n",
    "\n",
    "두 자리 수 *3의 첫번째 자리를 여러가지로 바꿨을 때 가능한 아홉 가지의 결과 중에서 13, 23, 43, 53, 73, 83의 여섯 개는 소수입니다.\n",
    "56**3 의 3번째와 4번째 자리를 동일한 숫자로 바꿔서 만들어지는 10개의 다섯자리 수 중에서는 아래에서 보듯이 7개가 소수가 되며, 이것은 이런 식으로 7개의 소수가 만들어지는 첫번째 경우입니다. 이 소수 집단의 첫번째 수인 56003은 이런 성질을 갖는 가장 작은 소수입니다.\n",
    "56003, 56113, 56333, 56443, 56663, 56773, 56993\n",
    "위의 예처럼 원래의 일부를 동일한 숫자로 치환했을 때 8개의 소수 집단이 만들어지는 경우를 찾고, 그 집단에 속한 가장 작은 소수를 구하세요.\n",
    "치환하는 자리는 인접하지 않아도 되고, 가장 앞부분을 치환하는 경우 거기에 0은 올 수 없습니다.\n",
    "\"\"\"\n",
    " \n",
    "import sympy as s\n",
    "import itertools as it\n",
    "import time as t\n",
    " \n",
    "start_time = t.time()\n",
    " \n",
    "n = 1\n",
    "end = False\n",
    " \n",
    "while not end:\n",
    "\n",
    "#     1. 소수를 찾고 각 자리로 분해.\n",
    "    prime = s.prime(n)\n",
    "    prime_digit = list(map(int, str(prime)))\n",
    "\n",
    "    # 2. 같은 숫자가 2개 이상 있는지 학인하고 진행.\n",
    "    unique_digit = list(set(prime_digit[:-1]))\n",
    "\n",
    "    if len(prime_digit)-1 == len(unique_digit):\n",
    "        n += 1\n",
    "        continue\n",
    "\n",
    "    # 3. 같은 숫자가 무엇이고 어디에 있는지 확인.\n",
    "    same_digit = prime_digit[:-1]\n",
    "\n",
    "    for d in unique_digit:\n",
    "        same_digit.remove(d)\n",
    "\n",
    "    same_digit = list(set(same_digit))\n",
    "    same_digit_pos = {}\n",
    "\n",
    "    for d in same_digit:\n",
    "        same_digit_pos[d] = [i for i, v in enumerate(prime_digit[:-1]) if v == d]\n",
    "\n",
    "    # 4. 바꿀 수 있는 모든 위치를 파악.\n",
    "    for k, v in same_digit_pos.items():\n",
    "        same_digit_pos[k] = list()\n",
    "        for l in range(len(v), 1, -1):\n",
    "            same_digit_pos[k] += list(it.combinations(v, l))\n",
    "\n",
    "    same_digit_pos = [pos for pos_list in same_digit_pos.values() for pos in pos_list]\n",
    "\n",
    "    # print(prime, same_digit_pos)\n",
    "\n",
    "    # 5. 해당 위치에 숫자를 넣어보면서 소수인지 파악\n",
    "    for pos in same_digit_pos:\n",
    "        tmp_prime_digit = prime_digit[:]\n",
    "        tmp_prime_list = list()\n",
    "\n",
    "        for d in range(1 if 0 in pos else 0, 10):\n",
    "            for p in pos:\n",
    "                tmp_prime_digit[p] = d\n",
    "\n",
    "            prime_candidate = int(''.join([str(d) for d in tmp_prime_digit]))\n",
    "\n",
    "            if s.isprime(prime_candidate):\n",
    "                tmp_prime_list.append(prime_candidate)\n",
    "\n",
    "        if len(tmp_prime_list) == 8:\n",
    "            print(prime, sorted(tmp_prime_list))\n",
    "            end = True\n",
    "\n",
    "    n += 1\n",
    "    \n",
    "end_time = t.time()\n",
    "print(end_time - start_time)\n"
   ]
  },
  {
   "cell_type": "code",
   "execution_count": 18,
   "metadata": {},
   "outputs": [
    {
     "name": "stdout",
     "output_type": "stream",
     "text": [
      "2944730\n"
     ]
    }
   ],
   "source": [
    "''' \n",
    "project euler #204\n",
    "A Hamming number is a positive number which has no prime factor larger than 5.\n",
    "So the first few Hamming numbers are 1, 2, 3, 4, 5, 6, 8, 9, 10, 12, 15.\n",
    "There are 1105 Hamming numbers not exceeding 10**8.\n",
    "\n",
    "We will call a positive number a generalised Hamming number of type n, if it has no prime factor larger than n.\n",
    "Hence the Hamming numbers are the generalised Hamming numbers of type 5.\n",
    "\n",
    "How many generalised Hamming numbers of type 100 are there which don't exceed 10**9?\n",
    "\n",
    "해밍수(Hamming number)란 5보다 큰 소수 인수를 갖지 않는 양수를 말한다. 즉, 해밍수를 작은 것부터 몇 개 나열하면 다음과 같다. 1, 2, 3, 4, 5, 6, 8, 9, 10, 12, 15.\n",
    "10**8보다 작은 해밍수는 1105개가 있다.\n",
    "이 개념을 일반화하자. 타잎 n의 일반화된 해밍수를 n보다 큰 소수 인수를 갖지 않는 양수로 정의하자. 즉, 해밍수는 타잎 5의 일반화된 해밍수가 된다.\n",
    "10**9보다 작은 타잎 100의 일반화된 해밍수는 몇 개 인가?\n",
    "'''\n",
    "def compute():\n",
    "\tLIMIT = 10**9\n",
    "\tprimes = [2,3,5,7,11,13,17,19,23,29,31,37,41,43,47,53,59,61,67,71,73,79,83,89,97]\n",
    "\n",
    "\t\n",
    "\tdef count(primeindex, product):\n",
    "\t\tif primeindex == len(primes):\n",
    "\t\t\treturn 1 if product <= LIMIT else 0\n",
    "\t\telse:\n",
    "\t\t\tresult = 0\n",
    "\t\t\twhile product <= LIMIT:\n",
    "\t\t\t\tresult += count(primeindex + 1, product)\n",
    "\t\t\t\tproduct *= primes[primeindex]\n",
    "\t\t\treturn result\n",
    "\t\n",
    "\treturn str(count(0, 1))\n",
    "\n",
    "\n",
    "if __name__ == \"__main__\":\n",
    "\tprint(compute())"
   ]
  },
  {
   "cell_type": "code",
   "execution_count": null,
   "metadata": {},
   "outputs": [],
   "source": []
  }
 ],
 "metadata": {
  "interpreter": {
   "hash": "22060db212986357581e62361c3eebebeb6449cac1057860b607030f5c42b833"
  },
  "kernelspec": {
   "display_name": "Python 3",
   "language": "python",
   "name": "python3"
  },
  "language_info": {
   "codemirror_mode": {
    "name": "ipython",
    "version": 3
   },
   "file_extension": ".py",
   "mimetype": "text/x-python",
   "name": "python",
   "nbconvert_exporter": "python",
   "pygments_lexer": "ipython3",
   "version": "3.8.5"
  }
 },
 "nbformat": 4,
 "nbformat_minor": 2
}
