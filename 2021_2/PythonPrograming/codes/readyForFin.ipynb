{
 "cells": [
  {
   "cell_type": "code",
   "execution_count": 1,
   "metadata": {},
   "outputs": [],
   "source": [
    "#6장\n",
    "  "
   ]
  },
  {
   "cell_type": "code",
   "execution_count": 116,
   "metadata": {},
   "outputs": [
    {
     "name": "stdout",
     "output_type": "stream",
     "text": [
      "data tata\n",
      "\n",
      "park 094823 1029483\n",
      "kim 038571 1829304\n",
      "\n"
     ]
    },
    {
     "data": {
      "text/plain": [
       "'010-2690-6051'"
      ]
     },
     "execution_count": 116,
     "metadata": {},
     "output_type": "execute_result"
    }
   ],
   "source": [
    "#7장 정규표현식\n",
    "import re\n",
    "data = \"\"\"\n",
    "park 094823 1029483\n",
    "kim 038571 1829304\n",
    "\"\"\"\n",
    "p = re.compile('[a-z]+ [a-z]+', re.MULTILINE)\n",
    "m = p.match('data tata')\n",
    "print(m.group())\n",
    "\n",
    "p2 = re.compile('(\\d{6})[-]\\d{7}')\n",
    "print(p.sub(\"g<1>-g<2>\",data))\n",
    " \n",
    "p3 = re.compile('(\\d{3})[-](\\d{4})[-](\\d{4})')\n",
    "result = p3.search(\"sahflksadj 010-2690-6051\")\n",
    "result.group()\n",
    "\n",
    "\n",
    "p4 = re.compile('(0\\d{2})[-](\\d{4})[-](\\d{4})')\n",
    "result = p4.findall(\"sahflksadj 010-2690-6051, 110-2690-6666\")\n",
    "a = [result[0][i] for i in range(3)]\n",
    "\"-\".join(a)"
   ]
  },
  {
   "cell_type": "code",
   "execution_count": 196,
   "metadata": {},
   "outputs": [
    {
     "name": "stdout",
     "output_type": "stream",
     "text": [
      "[  0.  10.  20.  30.  40.  50.  60.  70.  80.  90. 100.]\n"
     ]
    }
   ],
   "source": [
    "#9장\n",
    "import numpy as np\n",
    "a = np.array([i for i in range(0,100) if i%3==1]).reshape(3,11)\n",
    "# print(a,end='\\n\\n')\n",
    "\n",
    "a2 = np.array([i for i in range(0,20)]).reshape(4,5)\n",
    "#print(a2,end='\\n\\n')\n",
    "# print(a2[1:3,2:4])\n",
    "\n",
    "a3 = np.array([np.random.randint(100,200,size=100)]).reshape(10,10)\n",
    "a3[a3>=150] = 200\n",
    "a3[a3<150] = 100\n",
    "#print(a3,end='\\n\\n')\n",
    "\n",
    "a4 = np.array([x+y for x in ['Heart-','Diamond-','Spade=','Clover-'] for y in ['A','1','2','3','4','5','6','7','8','9','10','J','Q','K']])\n",
    "cards=a4[np.random.randint(0,52,size=7)]\n",
    "#print(cards)\n",
    "a5 = np.linspace(0,100,11)\n",
    "print(a5)"
   ]
  },
  {
   "cell_type": "code",
   "execution_count": 222,
   "metadata": {},
   "outputs": [
    {
     "data": {
      "text/plain": [
       "[<matplotlib.lines.Line2D at 0x7f8b407d4430>]"
      ]
     },
     "execution_count": 222,
     "metadata": {},
     "output_type": "execute_result"
    },
    {
     "data": {
      "image/png": "[encoded data removed]",
      "text/plain": [
       "<Figure size 432x288 with 1 Axes>"
      ]
     },
     "metadata": {
      "needs_background": "light"
     },
     "output_type": "display_data"
    }
   ],
   "source": [
    "#10장 matplot\n",
    "import matplotlib.pyplot as plt\n",
    "y = [1, 2, 3, 4, 5]\n",
    "# plt.plot(y)\n",
    "\n",
    "x2 = [i for i in range(-10,21)]\n",
    "y2 = [x*2-5 for x in range(-10,21)]\n",
    "y3 = [i for i in range(-10,21)]\n",
    "plt.plot(x2,y2,'b')\n",
    "plt.plot(x2,y3,'r--')\n"
   ]
  },
  {
   "cell_type": "code",
   "execution_count": 469,
   "metadata": {},
   "outputs": [
    {
     "data": {
      "text/plain": [
       "[<matplotlib.lines.Line2D at 0x7f8b444a6820>]"
      ]
     },
     "execution_count": 469,
     "metadata": {},
     "output_type": "execute_result"
    },
    {
     "data": {
      "image/png": "[encoded data removed]",
      "text/plain": [
       "<Figure size 432x288 with 1 Axes>"
      ]
     },
     "metadata": {
      "needs_background": "light"
     },
     "output_type": "display_data"
    }
   ],
   "source": [
    "import math\n",
    "x = [i for i in np.arange(0,10,0.01)]\n",
    "y = [np.exp(i-2)+2 for i in x]\n",
    "y2 = [(i-2)**2 for i in x]\n",
    "plt.axis([-2,11,-20,20])\n",
    "plt.plot(x,y)\n",
    "plt.plot(x,y2)"
   ]
  },
  {
   "cell_type": "code",
   "execution_count": 506,
   "metadata": {},
   "outputs": [
    {
     "data": {
      "text/html": [
       "<div>\n",
       "<style scoped>\n",
       "    .dataframe tbody tr th:only-of-type {\n",
       "        vertical-align: middle;\n",
       "    }\n",
       "\n",
       "    .dataframe tbody tr th {\n",
       "        vertical-align: top;\n",
       "    }\n",
       "\n",
       "    .dataframe thead th {\n",
       "        text-align: right;\n",
       "    }\n",
       "</style>\n",
       "<table border=\"1\" class=\"dataframe\">\n",
       "  <thead>\n",
       "    <tr style=\"text-align: right;\">\n",
       "      <th></th>\n",
       "      <th>시도</th>\n",
       "      <th>시군구</th>\n",
       "      <th>발생건수</th>\n",
       "      <th>사망자수</th>\n",
       "      <th>부상자수</th>\n",
       "      <th>중상</th>\n",
       "      <th>경상</th>\n",
       "      <th>부상신고</th>\n",
       "    </tr>\n",
       "  </thead>\n",
       "  <tbody>\n",
       "    <tr>\n",
       "      <th>0</th>\n",
       "      <td>서울</td>\n",
       "      <td>성북구</td>\n",
       "      <td>1</td>\n",
       "      <td>0</td>\n",
       "      <td>1</td>\n",
       "      <td>0</td>\n",
       "      <td>0</td>\n",
       "      <td>1</td>\n",
       "    </tr>\n",
       "    <tr>\n",
       "      <th>1</th>\n",
       "      <td>서울</td>\n",
       "      <td>강서구</td>\n",
       "      <td>1</td>\n",
       "      <td>0</td>\n",
       "      <td>2</td>\n",
       "      <td>1</td>\n",
       "      <td>1</td>\n",
       "      <td>0</td>\n",
       "    </tr>\n",
       "    <tr>\n",
       "      <th>2</th>\n",
       "      <td>서울</td>\n",
       "      <td>강남구</td>\n",
       "      <td>1</td>\n",
       "      <td>0</td>\n",
       "      <td>1</td>\n",
       "      <td>1</td>\n",
       "      <td>0</td>\n",
       "      <td>0</td>\n",
       "    </tr>\n",
       "    <tr>\n",
       "      <th>3</th>\n",
       "      <td>서울</td>\n",
       "      <td>강동구</td>\n",
       "      <td>37</td>\n",
       "      <td>1</td>\n",
       "      <td>85</td>\n",
       "      <td>10</td>\n",
       "      <td>60</td>\n",
       "      <td>15</td>\n",
       "    </tr>\n",
       "    <tr>\n",
       "      <th>4</th>\n",
       "      <td>서울</td>\n",
       "      <td>송파구</td>\n",
       "      <td>24</td>\n",
       "      <td>1</td>\n",
       "      <td>49</td>\n",
       "      <td>5</td>\n",
       "      <td>38</td>\n",
       "      <td>6</td>\n",
       "    </tr>\n",
       "    <tr>\n",
       "      <th>...</th>\n",
       "      <td>...</td>\n",
       "      <td>...</td>\n",
       "      <td>...</td>\n",
       "      <td>...</td>\n",
       "      <td>...</td>\n",
       "      <td>...</td>\n",
       "      <td>...</td>\n",
       "      <td>...</td>\n",
       "    </tr>\n",
       "    <tr>\n",
       "      <th>153</th>\n",
       "      <td>대전</td>\n",
       "      <td>서구</td>\n",
       "      <td>5</td>\n",
       "      <td>1</td>\n",
       "      <td>14</td>\n",
       "      <td>3</td>\n",
       "      <td>11</td>\n",
       "      <td>0</td>\n",
       "    </tr>\n",
       "    <tr>\n",
       "      <th>154</th>\n",
       "      <td>대전</td>\n",
       "      <td>유성구</td>\n",
       "      <td>26</td>\n",
       "      <td>2</td>\n",
       "      <td>52</td>\n",
       "      <td>20</td>\n",
       "      <td>32</td>\n",
       "      <td>0</td>\n",
       "    </tr>\n",
       "    <tr>\n",
       "      <th>155</th>\n",
       "      <td>대전</td>\n",
       "      <td>대덕구</td>\n",
       "      <td>21</td>\n",
       "      <td>2</td>\n",
       "      <td>34</td>\n",
       "      <td>9</td>\n",
       "      <td>24</td>\n",
       "      <td>1</td>\n",
       "    </tr>\n",
       "    <tr>\n",
       "      <th>156</th>\n",
       "      <td>울산</td>\n",
       "      <td>울주군</td>\n",
       "      <td>47</td>\n",
       "      <td>5</td>\n",
       "      <td>79</td>\n",
       "      <td>18</td>\n",
       "      <td>57</td>\n",
       "      <td>4</td>\n",
       "    </tr>\n",
       "    <tr>\n",
       "      <th>157</th>\n",
       "      <td>세종</td>\n",
       "      <td>세종</td>\n",
       "      <td>4</td>\n",
       "      <td>0</td>\n",
       "      <td>9</td>\n",
       "      <td>1</td>\n",
       "      <td>8</td>\n",
       "      <td>0</td>\n",
       "    </tr>\n",
       "  </tbody>\n",
       "</table>\n",
       "<p>158 rows × 8 columns</p>\n",
       "</div>"
      ],
      "text/plain": [
       "     시도  시군구  발생건수  사망자수  부상자수  중상  경상  부상신고\n",
       "0    서울  성북구     1     0     1   0   0     1\n",
       "1    서울  강서구     1     0     2   1   1     0\n",
       "2    서울  강남구     1     0     1   1   0     0\n",
       "3    서울  강동구    37     1    85  10  60    15\n",
       "4    서울  송파구    24     1    49   5  38     6\n",
       "..   ..  ...   ...   ...   ...  ..  ..   ...\n",
       "153  대전   서구     5     1    14   3  11     0\n",
       "154  대전  유성구    26     2    52  20  32     0\n",
       "155  대전  대덕구    21     2    34   9  24     1\n",
       "156  울산  울주군    47     5    79  18  57     4\n",
       "157  세종   세종     4     0     9   1   8     0\n",
       "\n",
       "[158 rows x 8 columns]"
      ]
     },
     "execution_count": 506,
     "metadata": {},
     "output_type": "execute_result"
    }
   ],
   "source": [
    "import pandas as pd\n",
    "s1 = pd.Series(['php','python','java','c#'])\n",
    "s1.apply(lambda x:x.upper())\n",
    "\n",
    "s2 = pd.Series(['_high','_mid','_low','-mid'])\n",
    "s1+s2\n",
    "\n",
    "# f = open('도로교통공단_부문별_고속도로_교통사고_20181231.csv','r',encoding='CP949')\n",
    "data = pd.read_csv('도로교통공단_부문별_고속도로_교통사고_20181231.csv',encoding='cp949')\n",
    "# f.close()\n",
    "df1 = pd.DataFrame(data)\n",
    "df1"
   ]
  },
  {
   "cell_type": "code",
   "execution_count": null,
   "metadata": {},
   "outputs": [],
   "source": []
  }
 ],
 "metadata": {
  "interpreter": {
   "hash": "22060db212986357581e62361c3eebebeb6449cac1057860b607030f5c42b833"
  },
  "kernelspec": {
   "display_name": "Python 3.8.5 64-bit ('base': conda)",
   "language": "python",
   "name": "python3"
  },
  "language_info": {
   "codemirror_mode": {
    "name": "ipython",
    "version": 3
   },
   "file_extension": ".py",
   "mimetype": "text/x-python",
   "name": "python",
   "nbconvert_exporter": "python",
   "pygments_lexer": "ipython3",
   "version": "3.8.5"
  },
  "orig_nbformat": 4
 },
 "nbformat": 4,
 "nbformat_minor": 2
}
